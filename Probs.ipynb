{
 "cells": [
  {
   "cell_type": "code",
   "execution_count": 1,
   "id": "6e068efa-0413-41f6-bdf3-0332f4059e54",
   "metadata": {},
   "outputs": [],
   "source": [
    "import pandas as pd\n",
    "import numpy as np\n",
    "\n",
    "\n",
    "import random"
   ]
  },
  {
   "cell_type": "code",
   "execution_count": 2,
   "id": "34916f45-3f3e-4e08-adbc-c4d0454330b9",
   "metadata": {},
   "outputs": [],
   "source": [
    "df =pd.read_csv('Sales_v1.csv')"
   ]
  },
  {
   "cell_type": "code",
   "execution_count": 3,
   "id": "ee50513a-0de9-44d2-8520-3d2e9600d1b1",
   "metadata": {},
   "outputs": [
    {
     "data": {
      "text/plain": [
       "Index(['Segment', 'Country', 'Product', 'Discount Band', 'Units Sold',\n",
       "       'Manufacturing Price', 'Sale Price', 'Gross Sales', 'Discounts',\n",
       "       ' Sales', 'COGS', 'Profit', 'Date', 'Month Number', 'Month Name',\n",
       "       'Year'],\n",
       "      dtype='object')"
      ]
     },
     "execution_count": 3,
     "metadata": {},
     "output_type": "execute_result"
    }
   ],
   "source": [
    "df.columns"
   ]
  },
  {
   "cell_type": "markdown",
   "id": "701e9a2f-f133-409f-b376-2ab2f421ea51",
   "metadata": {},
   "source": [
    ".drop([...], axis=1): El método drop se utiliza para eliminar columnas o filas del DataFrame.\n",
    "- El primer argumento es una lista de nombres de columnas que se desea eliminar.\n",
    "- \"Gross Sales\", \"Sales\", \"Profit\", \"Month Number\", \"Month Name\", \"Year\": Estas son las columnas que se están eliminando.\n",
    "- axis=1: Este parámetro indica que estamos eliminando columnas (si fuera axis=0, se eliminarían filas)."
   ]
  },
  {
   "cell_type": "code",
   "execution_count": 5,
   "id": "b40d0e9b-c98c-40d2-ae31-3c3141f52fec",
   "metadata": {
    "scrolled": true
   },
   "outputs": [],
   "source": [
    "df = (\n",
    "    df\n",
    "    \n",
    "    .drop( [ \n",
    "        \"Gross Sales\"\n",
    "        , \" Sales\"\n",
    "        , \"Profit\"\n",
    "        , \"Month Number\"\n",
    "        , \"Month Name\"\n",
    "        , \"Year\"\n",
    "    ] , axis = 1 )\n",
    "\n",
    "    \n",
    ")"
   ]
  },
  {
   "cell_type": "code",
   "execution_count": 6,
   "id": "66905427-9013-4084-a632-0366da7e3aed",
   "metadata": {},
   "outputs": [
    {
     "data": {
      "text/html": [
       "<div>\n",
       "<style scoped>\n",
       "    .dataframe tbody tr th:only-of-type {\n",
       "        vertical-align: middle;\n",
       "    }\n",
       "\n",
       "    .dataframe tbody tr th {\n",
       "        vertical-align: top;\n",
       "    }\n",
       "\n",
       "    .dataframe thead th {\n",
       "        text-align: right;\n",
       "    }\n",
       "</style>\n",
       "<table border=\"1\" class=\"dataframe\">\n",
       "  <thead>\n",
       "    <tr style=\"text-align: right;\">\n",
       "      <th></th>\n",
       "      <th>Segment</th>\n",
       "      <th>Country</th>\n",
       "      <th>Product</th>\n",
       "      <th>Discount Band</th>\n",
       "      <th>Units Sold</th>\n",
       "      <th>Manufacturing Price</th>\n",
       "      <th>Sale Price</th>\n",
       "      <th>Discounts</th>\n",
       "      <th>COGS</th>\n",
       "      <th>Date</th>\n",
       "    </tr>\n",
       "  </thead>\n",
       "  <tbody>\n",
       "    <tr>\n",
       "      <th>0</th>\n",
       "      <td>Government</td>\n",
       "      <td>Germany</td>\n",
       "      <td>Carretera</td>\n",
       "      <td>NaN</td>\n",
       "      <td>1513.0</td>\n",
       "      <td>$3</td>\n",
       "      <td>$350.</td>\n",
       "      <td>0.0</td>\n",
       "      <td>$393,380.</td>\n",
       "      <td>1/12/14</td>\n",
       "    </tr>\n",
       "    <tr>\n",
       "      <th>1</th>\n",
       "      <td>Government</td>\n",
       "      <td>Germany</td>\n",
       "      <td>Paseo</td>\n",
       "      <td>NaN</td>\n",
       "      <td>1006.0</td>\n",
       "      <td>$10</td>\n",
       "      <td>$350.</td>\n",
       "      <td>0.0</td>\n",
       "      <td>$261,560.</td>\n",
       "      <td>1/6/14</td>\n",
       "    </tr>\n",
       "  </tbody>\n",
       "</table>\n",
       "</div>"
      ],
      "text/plain": [
       "      Segment  Country    Product Discount Band  Units Sold  \\\n",
       "0  Government  Germany  Carretera           NaN      1513.0   \n",
       "1  Government  Germany      Paseo           NaN      1006.0   \n",
       "\n",
       "  Manufacturing Price Sale Price  Discounts       COGS     Date  \n",
       "0                  $3      $350.        0.0  $393,380.  1/12/14  \n",
       "1                 $10      $350.        0.0  $261,560.   1/6/14  "
      ]
     },
     "execution_count": 6,
     "metadata": {},
     "output_type": "execute_result"
    }
   ],
   "source": [
    "df.head(2)"
   ]
  },
  {
   "cell_type": "markdown",
   "id": "0ab63742-f44e-4eeb-8c38-90d3e7b52e77",
   "metadata": {},
   "source": [
    ".replace('[$,]', '', regex=True): Este método se utiliza para reemplazar caracteres específicos en los valores del DataFrame.\n",
    "- '[$,]': Esta es la expresión regular que define los caracteres que se desean reemplazar. En este caso, se están buscando los signos de dólar ($) y las comas (,).\n",
    "- '': Este es el valor por el que se reemplazarán los caracteres encontrados. En este caso, se está reemplazando con una cadena vacía, es decir, se están eliminando los caracteres especificados.\n",
    "- regex=True: Este parámetro indica que la primera cadena es una expresión regular."
   ]
  },
  {
   "cell_type": "code",
   "execution_count": 8,
   "id": "0594b2d6-bf25-42ec-b2b3-6d9137d77d8d",
   "metadata": {},
   "outputs": [
    {
     "name": "stdout",
     "output_type": "stream",
     "text": [
      "Manufacturing Price\n",
      "Sale Price\n",
      "COGS\n"
     ]
    }
   ],
   "source": [
    "cols = [\n",
    "    'Manufacturing Price'\n",
    "    , 'Sale Price'\n",
    "    , 'COGS'\n",
    "]\n",
    "\n",
    "for c in cols:\n",
    "    print(c)   \n",
    "    df[c] = df[c].replace( '[$,]' , '' , regex=True  ).astype(float)"
   ]
  },
  {
   "cell_type": "markdown",
   "id": "269375be-0a51-41db-86c5-dfc56f6c9286",
   "metadata": {},
   "source": [
    "\t•\tdf['Date']: Selecciona la columna ‘Date’ del DataFrame df.\n",
    "\t•\tpd.to_datetime(...): Esta función de pandas convierte una cadena de texto en un objeto de fecha y hora.\n",
    "\t•\tdf['Date']: Es la columna que se va a convertir.\n",
    "\t•\tformat='%d/%m/%y': Especifica el formato en el que se encuentran las fechas en la columna ‘Date’. En este caso:\n",
    "\t•\t%d representa el día del mes con dos dígitos (01, 02, …, 31).\n",
    "\t•\t%m representa el mes con dos dígitos (01, 02, …, 12).\n",
    "\t•\t%y representa el año con dos dígitos (por ejemplo, 21 para el año 2021).\n",
    "\t•\tEl resultado es que la columna ‘Date’ del DataFrame df se convierte en un tipo de dato datetime."
   ]
  },
  {
   "cell_type": "code",
   "execution_count": 10,
   "id": "76ede93a-004d-4ad4-8e0d-e65f50fb8264",
   "metadata": {},
   "outputs": [],
   "source": [
    "df['Date'] = pd.to_datetime( df['Date'] , format='%d/%m/%y' )"
   ]
  },
  {
   "cell_type": "markdown",
   "id": "98369da6-25ea-4c4a-933c-7c4ab57d369a",
   "metadata": {},
   "source": [
    "\t•\tdf['Year'] = df['Date'].dt.year:\n",
    "\t•\tdf['Date']: Selecciona la columna ‘Date’ del DataFrame df.\n",
    "\t•\t.dt.year: Extrae el componente de año de los valores de fecha en la columna ‘Date’.\n",
    "\t•\tdf['Year']: Crea una nueva columna llamada ‘Year’ en el DataFrame df y le asigna los valores de año extraídos de la columna ‘Date’.\n",
    "\t•\tdf['Month'] = df['Date'].dt.month:\n",
    "\t•\tdf['Date']: Selecciona la columna ‘Date’ del DataFrame df.\n",
    "\t•\t.dt.month: Extrae el componente de mes de los valores de fecha en la columna ‘Date’."
   ]
  },
  {
   "cell_type": "code",
   "execution_count": 12,
   "id": "8ad84df0-187f-4fb7-b2d3-4cb34a0112ed",
   "metadata": {},
   "outputs": [],
   "source": [
    "df['Year'] = df['Date'].dt.year\n",
    "df['Month'] = df['Date'].dt.month"
   ]
  },
  {
   "cell_type": "code",
   "execution_count": 13,
   "id": "94c92822-6e83-4245-8b4d-85581c11c89e",
   "metadata": {},
   "outputs": [
    {
     "data": {
      "text/html": [
       "<div>\n",
       "<style scoped>\n",
       "    .dataframe tbody tr th:only-of-type {\n",
       "        vertical-align: middle;\n",
       "    }\n",
       "\n",
       "    .dataframe tbody tr th {\n",
       "        vertical-align: top;\n",
       "    }\n",
       "\n",
       "    .dataframe thead th {\n",
       "        text-align: right;\n",
       "    }\n",
       "</style>\n",
       "<table border=\"1\" class=\"dataframe\">\n",
       "  <thead>\n",
       "    <tr style=\"text-align: right;\">\n",
       "      <th></th>\n",
       "      <th>Segment</th>\n",
       "      <th>Country</th>\n",
       "      <th>Product</th>\n",
       "      <th>Discount Band</th>\n",
       "      <th>Units Sold</th>\n",
       "      <th>Manufacturing Price</th>\n",
       "      <th>Sale Price</th>\n",
       "      <th>Discounts</th>\n",
       "      <th>COGS</th>\n",
       "      <th>Date</th>\n",
       "      <th>Year</th>\n",
       "      <th>Month</th>\n",
       "    </tr>\n",
       "  </thead>\n",
       "  <tbody>\n",
       "    <tr>\n",
       "      <th>0</th>\n",
       "      <td>Government</td>\n",
       "      <td>Germany</td>\n",
       "      <td>Carretera</td>\n",
       "      <td>NaN</td>\n",
       "      <td>1513.0</td>\n",
       "      <td>3.0</td>\n",
       "      <td>350.0</td>\n",
       "      <td>0.0</td>\n",
       "      <td>393380.0</td>\n",
       "      <td>2014-12-01</td>\n",
       "      <td>2014</td>\n",
       "      <td>12</td>\n",
       "    </tr>\n",
       "    <tr>\n",
       "      <th>1</th>\n",
       "      <td>Government</td>\n",
       "      <td>Germany</td>\n",
       "      <td>Paseo</td>\n",
       "      <td>NaN</td>\n",
       "      <td>1006.0</td>\n",
       "      <td>10.0</td>\n",
       "      <td>350.0</td>\n",
       "      <td>0.0</td>\n",
       "      <td>261560.0</td>\n",
       "      <td>2014-06-01</td>\n",
       "      <td>2014</td>\n",
       "      <td>6</td>\n",
       "    </tr>\n",
       "  </tbody>\n",
       "</table>\n",
       "</div>"
      ],
      "text/plain": [
       "      Segment  Country    Product Discount Band  Units Sold  \\\n",
       "0  Government  Germany  Carretera           NaN      1513.0   \n",
       "1  Government  Germany      Paseo           NaN      1006.0   \n",
       "\n",
       "   Manufacturing Price  Sale Price  Discounts      COGS       Date  Year  \\\n",
       "0                  3.0       350.0        0.0  393380.0 2014-12-01  2014   \n",
       "1                 10.0       350.0        0.0  261560.0 2014-06-01  2014   \n",
       "\n",
       "   Month  \n",
       "0     12  \n",
       "1      6  "
      ]
     },
     "execution_count": 13,
     "metadata": {},
     "output_type": "execute_result"
    }
   ],
   "source": [
    "df.head(2)"
   ]
  },
  {
   "cell_type": "code",
   "execution_count": 14,
   "id": "7ffc1d56-8387-4b7f-910e-e368645ee8b5",
   "metadata": {},
   "outputs": [
    {
     "data": {
      "text/plain": [
       "Year\n",
       "2014    525\n",
       "2013    175\n",
       "Name: count, dtype: int64"
      ]
     },
     "execution_count": 14,
     "metadata": {},
     "output_type": "execute_result"
    }
   ],
   "source": [
    "df[ 'Year' ].value_counts()"
   ]
  },
  {
   "cell_type": "markdown",
   "id": "3ca829ae-a959-43d6-a57a-60e06a182d5f",
   "metadata": {},
   "source": [
    "\t•\tdf.groupby([...], as_index=False): Agrupa los datos del DataFrame df según las columnas especificadas y cuenta los elementos en cada grupo.\n",
    "\t•\t[\"Year\", \"Month\"]: Especifica las columnas ‘Year’ y ‘Month’ por las cuales se agruparán los datos. Esto significa que se crearán grupos para cada combinación única de año y mes.\n",
    "\t•\tas_index=False: Este parámetro indica que las columnas usadas para agrupar no se establecerán como índice del DataFrame resultante, manteniéndose como columnas normales.\n",
    "\t•\t.count(): Cuenta el número de elementos en cada grupo. Esto se aplica a todas las columnas del DataFrame, devolviendo el número de elementos no nulos en cada grupo.\n",
    "\n",
    "El resultado es un nuevo DataFrame en el que cada fila representa una combinación única de año y mes, y las columnas contienen el conteo de elementos para cada grupo. Esta operación es útil para resumir y analizar la cantidad de datos presentes en cada periodo de tiempo."
   ]
  },
  {
   "cell_type": "code",
   "execution_count": 16,
   "id": "a3c20525-ce8a-45c7-99b8-461f21302794",
   "metadata": {},
   "outputs": [
    {
     "data": {
      "text/html": [
       "<div>\n",
       "<style scoped>\n",
       "    .dataframe tbody tr th:only-of-type {\n",
       "        vertical-align: middle;\n",
       "    }\n",
       "\n",
       "    .dataframe tbody tr th {\n",
       "        vertical-align: top;\n",
       "    }\n",
       "\n",
       "    .dataframe thead th {\n",
       "        text-align: right;\n",
       "    }\n",
       "</style>\n",
       "<table border=\"1\" class=\"dataframe\">\n",
       "  <thead>\n",
       "    <tr style=\"text-align: right;\">\n",
       "      <th></th>\n",
       "      <th>Year</th>\n",
       "      <th>Month</th>\n",
       "      <th>Segment</th>\n",
       "      <th>Country</th>\n",
       "      <th>Product</th>\n",
       "      <th>Discount Band</th>\n",
       "      <th>Units Sold</th>\n",
       "      <th>Manufacturing Price</th>\n",
       "      <th>Sale Price</th>\n",
       "      <th>Discounts</th>\n",
       "      <th>COGS</th>\n",
       "      <th>Date</th>\n",
       "    </tr>\n",
       "  </thead>\n",
       "  <tbody>\n",
       "    <tr>\n",
       "      <th>0</th>\n",
       "      <td>2013</td>\n",
       "      <td>9</td>\n",
       "      <td>35</td>\n",
       "      <td>35</td>\n",
       "      <td>35</td>\n",
       "      <td>32</td>\n",
       "      <td>35</td>\n",
       "      <td>35</td>\n",
       "      <td>35</td>\n",
       "      <td>35</td>\n",
       "      <td>35</td>\n",
       "      <td>35</td>\n",
       "    </tr>\n",
       "    <tr>\n",
       "      <th>1</th>\n",
       "      <td>2013</td>\n",
       "      <td>10</td>\n",
       "      <td>70</td>\n",
       "      <td>70</td>\n",
       "      <td>70</td>\n",
       "      <td>68</td>\n",
       "      <td>70</td>\n",
       "      <td>70</td>\n",
       "      <td>70</td>\n",
       "      <td>70</td>\n",
       "      <td>70</td>\n",
       "      <td>70</td>\n",
       "    </tr>\n",
       "  </tbody>\n",
       "</table>\n",
       "</div>"
      ],
      "text/plain": [
       "   Year  Month  Segment  Country  Product  Discount Band  Units Sold  \\\n",
       "0  2013      9       35       35       35             32          35   \n",
       "1  2013     10       70       70       70             68          70   \n",
       "\n",
       "   Manufacturing Price  Sale Price  Discounts  COGS  Date  \n",
       "0                   35          35         35    35    35  \n",
       "1                   70          70         70    70    70  "
      ]
     },
     "execution_count": 16,
     "metadata": {},
     "output_type": "execute_result"
    }
   ],
   "source": [
    "(\n",
    "\n",
    "    df\n",
    "\n",
    "    .groupby( \n",
    "        [\n",
    "            \"Year\"\n",
    "            , \"Month\"\n",
    "        ]\n",
    "        , as_index=False\n",
    "    )\n",
    "\n",
    "    .count()\n",
    "\n",
    "    .head(2)\n",
    "   \n",
    ")"
   ]
  },
  {
   "cell_type": "markdown",
   "id": "b0357b69-7030-48cb-9641-3b111c30d822",
   "metadata": {},
   "source": [
    "\t•\tdf.groupby([...], as_index=False): Agrupa los datos del DataFrame df según las columnas especificadas y aplica una función de agregación a cada grupo.\n",
    "\t•\t[\"Year\", \"Month\"]: Especifica las columnas ‘Year’ y ‘Month’ por las cuales se agruparán los datos. Esto significa que se crearán grupos para cada combinación única de año y mes.\n",
    "\t•\tas_index=False: Este parámetro indica que las columnas usadas para agrupar no se establecerán como índice del DataFrame resultante, manteniéndose como columnas normales.\n",
    "\t•\t.agg({\"Date\": [\"count\"]}): Aplica una función de agregación al DataFrame agrupado.\n",
    "\t•\t{\"Date\": [\"count\"]}: Especifica que se desea contar el número de valores en la columna ‘Date’ para cada grupo. La clave del diccionario es el nombre de la columna sobre la que se aplica la función, y el valor es una lista de las funciones de agregación a aplicar. En este caso, solo se aplica la función count."
   ]
  },
  {
   "cell_type": "code",
   "execution_count": 18,
   "id": "6d211c3b-5776-4a84-b61c-25bc9166afb4",
   "metadata": {},
   "outputs": [],
   "source": [
    "aggYM = (\n",
    "\n",
    "    df\n",
    "\n",
    "    .groupby( \n",
    "        [\n",
    "            \"Year\"\n",
    "            , \"Month\"\n",
    "        ]\n",
    "        , as_index=False\n",
    "    )\n",
    "\n",
    "    .agg({\n",
    "        \"Date\" : [ \"count\" ]\n",
    "    })\n",
    "\n",
    ")"
   ]
  },
  {
   "cell_type": "markdown",
   "id": "8ad48fb6-479b-451b-b016-f256b83de5cf",
   "metadata": {},
   "source": [
    "\t•\taggYM.columns: Selecciona el atributo columns del DataFrame aggYM. Este atributo es una lista que contiene los nombres de las columnas del DataFrame.\n",
    "\t•\t= ['Year', 'Month', 'Count']: Asigna una nueva lista de nombres a las columnas del DataFrame aggYM. En este caso, se están renombrando las columnas para que sean más descriptivas:\n",
    "\t•\t‘Year’: La primera columna, que representa el año.\n",
    "\t•\t‘Month’: La segunda columna, que representa el mes.\n",
    "\t•\t‘Count’: La tercera columna, que representa el conteo de valores en la columna ‘Date’ para cada combinación de año y mes.\n",
    "\n",
    " Esta limpieza de \"nombre de columnas\" en necesaria porque despues de hacer un groupby con un agg deja un multilevel de nombre de columnas, tal como lo explicamos en clases"
   ]
  },
  {
   "cell_type": "code",
   "execution_count": 20,
   "id": "08949894-047f-493a-961a-34b2f8793b7d",
   "metadata": {},
   "outputs": [],
   "source": [
    "aggYM.columns = [ 'Year' , 'Month' , 'Count' ]"
   ]
  },
  {
   "cell_type": "code",
   "execution_count": 21,
   "id": "3b773e4e-c83d-4bb7-9029-1fc80a7e7626",
   "metadata": {},
   "outputs": [
    {
     "data": {
      "text/html": [
       "<div>\n",
       "<style scoped>\n",
       "    .dataframe tbody tr th:only-of-type {\n",
       "        vertical-align: middle;\n",
       "    }\n",
       "\n",
       "    .dataframe tbody tr th {\n",
       "        vertical-align: top;\n",
       "    }\n",
       "\n",
       "    .dataframe thead th {\n",
       "        text-align: right;\n",
       "    }\n",
       "</style>\n",
       "<table border=\"1\" class=\"dataframe\">\n",
       "  <thead>\n",
       "    <tr style=\"text-align: right;\">\n",
       "      <th></th>\n",
       "      <th>Year</th>\n",
       "      <th>Month</th>\n",
       "      <th>Count</th>\n",
       "    </tr>\n",
       "  </thead>\n",
       "  <tbody>\n",
       "    <tr>\n",
       "      <th>0</th>\n",
       "      <td>2013</td>\n",
       "      <td>9</td>\n",
       "      <td>35</td>\n",
       "    </tr>\n",
       "    <tr>\n",
       "      <th>1</th>\n",
       "      <td>2013</td>\n",
       "      <td>10</td>\n",
       "      <td>70</td>\n",
       "    </tr>\n",
       "    <tr>\n",
       "      <th>2</th>\n",
       "      <td>2013</td>\n",
       "      <td>11</td>\n",
       "      <td>35</td>\n",
       "    </tr>\n",
       "    <tr>\n",
       "      <th>3</th>\n",
       "      <td>2013</td>\n",
       "      <td>12</td>\n",
       "      <td>35</td>\n",
       "    </tr>\n",
       "    <tr>\n",
       "      <th>4</th>\n",
       "      <td>2014</td>\n",
       "      <td>1</td>\n",
       "      <td>35</td>\n",
       "    </tr>\n",
       "  </tbody>\n",
       "</table>\n",
       "</div>"
      ],
      "text/plain": [
       "   Year  Month  Count\n",
       "0  2013      9     35\n",
       "1  2013     10     70\n",
       "2  2013     11     35\n",
       "3  2013     12     35\n",
       "4  2014      1     35"
      ]
     },
     "execution_count": 21,
     "metadata": {},
     "output_type": "execute_result"
    }
   ],
   "source": [
    "aggYM.head()"
   ]
  },
  {
   "cell_type": "markdown",
   "id": "15781e5b-0f27-4cc6-ba3a-6ffc2b3d5a18",
   "metadata": {},
   "source": [
    "## Distribuciones y probabilidades"
   ]
  },
  {
   "cell_type": "code",
   "execution_count": 23,
   "id": "9b8ab4d8-8c71-483a-93dd-16e728481266",
   "metadata": {},
   "outputs": [
    {
     "data": {
      "text/plain": [
       "<Axes: >"
      ]
     },
     "execution_count": 23,
     "metadata": {},
     "output_type": "execute_result"
    },
    {
     "data": {
      "image/png": "[encoded data removed]",
      "text/plain": [
       "<Figure size 640x480 with 1 Axes>"
      ]
     },
     "metadata": {},
     "output_type": "display_data"
    }
   ],
   "source": [
    "df[\"Sale Price\"].hist()"
   ]
  },
  {
   "cell_type": "markdown",
   "id": "5563ccfe-ce8f-4a6c-b77e-58cebcb2640a",
   "metadata": {},
   "source": [
    "\t•\tAx = []: Inicializa una lista vacía llamada Ax.\n",
    "\t•\tfor i in range(1000):: Inicia un bucle que se ejecutará 1000 veces. La variable i tomará valores desde 0 hasta 999 en cada iteración del bucle.\n",
    "\t•\tAx.append(random.normalvariate(5, 12)):\n",
    "\t•\trandom.normalvariate(5, 12): Genera un número aleatorio siguiendo una distribución normal (también conocida como distribución gaussiana) con una media de 5 y una desviación estándar de 12.\n",
    "\t•\t.append(...): Agrega el número generado al final de la lista Ax.\n",
    "\n",
    "El resultado es una lista Ax que contiene 1000 números aleatorios generados a partir de una distribución normal con media 5 y desviación estándar 12. Esta operación es útil para simular datos que siguen una distribución específica, que es una práctica común en la teoría de la simulación.\n"
   ]
  },
  {
   "cell_type": "code",
   "execution_count": 25,
   "id": "194d6d96-8f27-47c9-a871-f7a7425111da",
   "metadata": {},
   "outputs": [],
   "source": [
    "Ax = []\n",
    "\n",
    "for i in range(1000):\n",
    "    Ax.append( random.normalvariate( 5 , 12 ) )"
   ]
  },
  {
   "cell_type": "markdown",
   "id": "35690dd4-b471-4c5a-aa49-be36f1160294",
   "metadata": {},
   "source": [
    "\t•\tpd.DataFrame(...): Crea un DataFrame de pandas.\n",
    "\t•\t{'r': Ax}: Define un diccionario donde la clave es 'r' y el valor es la lista Ax. Esto significa que se crea una columna llamada 'r' en el DataFrame y sus valores son los elementos de la lista Ax.\n",
    "\t•\t.boxplot(): Este método genera un diagrama de caja (box plot) para la columna 'r' del DataFrame.\n",
    "\t•\tUn diagrama de caja es una representación gráfica de la distribución de datos basada en un resumen de cinco números: el mínimo, el primer cuartil (Q1), la mediana, el tercer cuartil (Q3) y el máximo. También puede mostrar valores atípicos (outliers)."
   ]
  },
  {
   "cell_type": "code",
   "execution_count": 27,
   "id": "0ae793f2-bea7-4a7c-b212-cac37b5f0a69",
   "metadata": {},
   "outputs": [
    {
     "data": {
      "text/plain": [
       "<Axes: >"
      ]
     },
     "execution_count": 27,
     "metadata": {},
     "output_type": "execute_result"
    },
    {
     "data": {
      "image/png": "[encoded data removed]",
      "text/plain": [
       "<Figure size 640x480 with 1 Axes>"
      ]
     },
     "metadata": {},
     "output_type": "display_data"
    }
   ],
   "source": [
    "pd.DataFrame({\n",
    "    'r':  Ax\n",
    "}).boxplot()"
   ]
  },
  {
   "cell_type": "code",
   "execution_count": 28,
   "id": "d462d2d2-6da9-414a-a25a-c9c83e56c48c",
   "metadata": {},
   "outputs": [
    {
     "name": "stdout",
     "output_type": "stream",
     "text": [
      "Media: 1840.490786712401\n",
      "Desviación Estándar: 130.75815513801865\n",
      "Mínimo: 1582.633579764367\n",
      "Máximo: 2042.6487591544042\n",
      "Mediana: 1857.1425617828816\n"
     ]
    },
    {
     "data": {
      "image/png": "[encoded data removed]",
      "text/plain": [
       "<Figure size 640x480 with 1 Axes>"
      ]
     },
     "metadata": {},
     "output_type": "display_data"
    }
   ],
   "source": [
    "import numpy as np\n",
    "from scipy.stats import truncnorm\n",
    "\n",
    "def generate_truncated_normal_data(mean, std, min_val, max_val, size):\n",
    "    # Calcular los parámetros de la distribución normal truncada\n",
    "    a, b = (min_val - mean) / std, (max_val - mean) / std\n",
    "    data = truncnorm(a, b, loc=mean, scale=std).rvs(size)\n",
    "    return data\n",
    "\n",
    "# Parámetros de ejemplo\n",
    "mean = 2349\n",
    "std = 605.884753\n",
    "min_val = 1582.0\n",
    "max_val = 2042.666667\n",
    "size = 1000\n",
    "\n",
    "# Generar datos\n",
    "data = generate_truncated_normal_data(mean, std, min_val, max_val, size)\n",
    "\n",
    "# Verificar estadísticas\n",
    "print(\"Media:\", np.mean(data))\n",
    "print(\"Desviación Estándar:\", np.std(data))\n",
    "print(\"Mínimo:\", np.min(data))\n",
    "print(\"Máximo:\", np.max(data))\n",
    "print(\"Mediana:\", np.median(data))\n",
    "\n",
    "# Graficar datos\n",
    "import matplotlib.pyplot as plt\n",
    "\n",
    "plt.hist(data, bins=30, density=True)\n",
    "plt.title('Distribución Normal Truncada')\n",
    "plt.xlabel('Valor')\n",
    "plt.ylabel('Frecuencia')\n",
    "plt.show()"
   ]
  },
  {
   "cell_type": "markdown",
   "id": "44468961-73d7-49a1-aa46-a617309ccb21",
   "metadata": {},
   "source": [
    "\t•\tn = 100: Define una variable n con el valor 100, que representa el número de muestras que se generarán.\n",
    "\t•\tpd.DataFrame(...): Crea un DataFrame de pandas.\n",
    "\t•\t{'role': np.random.choice(['Diputados', 'Cajeros'], size=n, p=[0.15, 0.85])}: Define un diccionario para crear una columna en el DataFrame:\n",
    "\t•\t'role': Nombre de la columna.\n",
    "\t•\tnp.random.choice(['Diputados', 'Cajeros'], size=n, p=[0.15, 0.85]):\n",
    "\t•\tnp.random.choice(...): Genera una muestra aleatoria de elementos de la lista ['Diputados', 'Cajeros'].\n",
    "\t•\tsize=n: El tamaño de la muestra es n (en este caso, 100).\n",
    "\t•\tp=[0.15, 0.85]: Define las probabilidades de selección para cada elemento en la lista. El 15% de las veces se seleccionará ‘Diputados’ y el 85% de las veces se seleccionará ‘Cajeros’.\n",
    "\t•\tnewCats['n'] = 1: Agrega una nueva columna llamada 'n' al DataFrame newCats y le asigna el valor 1 en todas las filas."
   ]
  },
  {
   "cell_type": "code",
   "execution_count": 30,
   "id": "3dd9822f-238b-44e9-97f9-ba364afe11f8",
   "metadata": {},
   "outputs": [],
   "source": [
    "n = 100\n",
    "newCats = pd.DataFrame({\n",
    "    'role' : np.random.choice( [ 'Diputados' , 'Cajeros' ] , size=n , p = [ .15 , .85 ] ) \n",
    "})\n",
    "newCats['n'] = 1 \n"
   ]
  },
  {
   "cell_type": "markdown",
   "id": "0e03363d-21f8-4854-8c52-c00044747575",
   "metadata": {},
   "source": [
    "\t•\tnewCats.groupby(['role'], as_index=False): Agrupa los datos del DataFrame newCats según la columna 'role'.\n",
    "\t•\t['role']: Especifica la columna por la cual se agruparán los datos. Esto significa que se crearán grupos para cada valor único en la columna 'role'.\n",
    "\t•\tas_index=False: Indica que la columna usada para agrupar no se establecerá como índice del DataFrame resultante, manteniéndose como una columna normal.\n",
    "\t•\t.agg({\"n\": [\"count\"]}): Aplica una función de agregación al DataFrame agrupado.\n",
    "\t•\t{\"n\": [\"count\"]}: Especifica que se desea contar el número de valores en la columna 'n' para cada grupo. La clave del diccionario es el nombre de la columna sobre la que se aplica la función, y el valor es una lista de las funciones de agregación a aplicar. En este caso, solo se aplica la función count."
   ]
  },
  {
   "cell_type": "code",
   "execution_count": 32,
   "id": "17a2fda6-6e1d-4f97-9017-cf30454dc32f",
   "metadata": {},
   "outputs": [],
   "source": [
    "aggRoles = (\n",
    "    newCats\n",
    "\n",
    "    .groupby(['role'], as_index=False)\n",
    "    .agg({\n",
    "        \"n\": [\"count\"]\n",
    "    })\n",
    ")"
   ]
  },
  {
   "cell_type": "code",
   "execution_count": 33,
   "id": "cb223da1-7c08-4d9c-a14b-615121f37a64",
   "metadata": {},
   "outputs": [],
   "source": [
    "aggRoles.columns = ['role', 'count']"
   ]
  },
  {
   "cell_type": "markdown",
   "id": "36a95fb0-eb7d-48e7-9df1-51acd8b62921",
   "metadata": {},
   "source": [
    "\t•\taggRoles['probs']: Crea una nueva columna llamada 'probs' en el DataFrame aggRoles.\n",
    "\t•\taggRoles['count'] / newCats.shape[0]: Calcula la probabilidad de cada rol dividiendo el conteo de cada rol (aggRoles['count']) por el número total de filas en el DataFrame newCats (newCats.shape[0]).\n",
    "\t•\taggRoles['count']: Selecciona la columna 'count' del DataFrame aggRoles, que contiene el número de ocurrencias de cada rol.\n",
    "\t•\tnewCats.shape[0]: Obtiene el número total de filas en el DataFrame newCats, lo que equivale a n, el tamaño de la muestra (en este caso, 100).\n",
    "\n",
    "El resultado es una nueva columna 'probs' en el DataFrame aggRoles que contiene las probabilidades de cada rol (‘Diputados’ o ‘Cajeros’) en la muestra generada."
   ]
  },
  {
   "cell_type": "code",
   "execution_count": 35,
   "id": "174f84da-7414-41f2-b904-0a823a57d583",
   "metadata": {},
   "outputs": [],
   "source": [
    "aggRoles['probs'] = aggRoles['count'] / newCats.shape[0]"
   ]
  },
  {
   "cell_type": "code",
   "execution_count": 36,
   "id": "0b869c4c-c3fb-4ade-924b-d4c1fc22daea",
   "metadata": {},
   "outputs": [
    {
     "data": {
      "text/html": [
       "<div>\n",
       "<style scoped>\n",
       "    .dataframe tbody tr th:only-of-type {\n",
       "        vertical-align: middle;\n",
       "    }\n",
       "\n",
       "    .dataframe tbody tr th {\n",
       "        vertical-align: top;\n",
       "    }\n",
       "\n",
       "    .dataframe thead th {\n",
       "        text-align: right;\n",
       "    }\n",
       "</style>\n",
       "<table border=\"1\" class=\"dataframe\">\n",
       "  <thead>\n",
       "    <tr style=\"text-align: right;\">\n",
       "      <th></th>\n",
       "      <th>role</th>\n",
       "      <th>count</th>\n",
       "      <th>probs</th>\n",
       "    </tr>\n",
       "  </thead>\n",
       "  <tbody>\n",
       "    <tr>\n",
       "      <th>0</th>\n",
       "      <td>Cajeros</td>\n",
       "      <td>85</td>\n",
       "      <td>0.85</td>\n",
       "    </tr>\n",
       "    <tr>\n",
       "      <th>1</th>\n",
       "      <td>Diputados</td>\n",
       "      <td>15</td>\n",
       "      <td>0.15</td>\n",
       "    </tr>\n",
       "  </tbody>\n",
       "</table>\n",
       "</div>"
      ],
      "text/plain": [
       "        role  count  probs\n",
       "0    Cajeros     85   0.85\n",
       "1  Diputados     15   0.15"
      ]
     },
     "execution_count": 36,
     "metadata": {},
     "output_type": "execute_result"
    }
   ],
   "source": [
    "aggRoles"
   ]
  },
  {
   "cell_type": "markdown",
   "id": "d577751d-9d9d-4185-9092-e6b952c2eb42",
   "metadata": {},
   "source": [
    "## regresemos a sales"
   ]
  },
  {
   "cell_type": "markdown",
   "id": "dd8f53cf-3183-4c97-ac02-31721f019174",
   "metadata": {},
   "source": [
    "\t•\tdf.groupby([...], as_index=False): Agrupa los datos del DataFrame df según las columnas especificadas.\n",
    "\t•\t[\"Segment\", \"Country\", \"Product\"]: Especifica las columnas ‘Segment’, ‘Country’ y ‘Product’ por las cuales se agruparán los datos. Esto significa que se crearán grupos para cada combinación única de segmento, país y producto.\n",
    "\t•\t# \"Discount Band\", \"Month\": Estas columnas están comentadas, por lo que no se utilizarán en el agrupamiento en este caso.\n",
    "\t•\tas_index=False: Indica que las columnas usadas para agrupar no se establecerán como índice del DataFrame resultante, manteniéndose como columnas normales.\n",
    "\t•\t.agg({\"Date\": [\"count\"]}): Aplica una función de agregación al DataFrame agrupado.\n",
    "\t•\t{\"Date\": [\"count\"]}: Especifica que se desea contar el número de valores en la columna ‘Date’ para cada grupo. La clave del diccionario es el nombre de la columna sobre la que se aplica la función, y el valor es una lista de las funciones de agregación a aplicar. En este caso, solo se aplica la función count.\n",
    "\n",
    "El resultado es un nuevo DataFrame firstAgg en el que cada fila representa una combinación única de segmento, país y producto, y la columna ‘Date’ contiene el conteo de valores para cada grupo."
   ]
  },
  {
   "cell_type": "code",
   "execution_count": 39,
   "id": "1b458d96-56f5-45a3-83b3-6395f2ba5eb1",
   "metadata": {},
   "outputs": [],
   "source": [
    "firstAgg = (\n",
    "    df\n",
    "\n",
    "    .groupby( [\n",
    "        \"Segment\"\n",
    "        , \"Country\"\n",
    "        , \"Product\"\n",
    "        #, \"Discount Band\"\n",
    "        #, \"Month\"\n",
    "    ] , as_index=False )\n",
    "\n",
    "    .agg({\n",
    "        \"Date\": [\"count\"]\n",
    "    })\n",
    ")"
   ]
  },
  {
   "cell_type": "code",
   "execution_count": 40,
   "id": "48bdab42-8cef-4134-9adb-fca229e0c443",
   "metadata": {},
   "outputs": [],
   "source": [
    "firstAgg.columns = [        \n",
    "        \"Segment\"\n",
    "        , \"Country\"\n",
    "        , \"Product\"\n",
    "        #, \"Discount Band\"\n",
    "        #, \"Month\"\n",
    "        , \"Count\"\n",
    "]"
   ]
  },
  {
   "cell_type": "code",
   "execution_count": 41,
   "id": "795be3a8-20b7-4813-adce-da59ad735eb3",
   "metadata": {},
   "outputs": [],
   "source": [
    "firstAgg['prob'] = firstAgg['Count'] / df.shape[0]"
   ]
  },
  {
   "cell_type": "markdown",
   "id": "8e3a0afd-31aa-4658-9af4-4dc06ab79d2b",
   "metadata": {},
   "source": [
    "\t•\tfirstAgg.index: Accede al atributo index del DataFrame firstAgg. El atributo index contiene los índices (o etiquetas) de las filas del DataFrame.\n",
    "\n",
    "El resultado de esta celda será una visualización del índice del DataFrame firstAgg, que en este caso debería ser un rango de números enteros (0, 1, 2, …) debido a que se especificó as_index=False en la operación de agrupamiento. Esto significa que el índice es simplemente una enumeración de las filas en el DataFrame resultante."
   ]
  },
  {
   "cell_type": "code",
   "execution_count": 43,
   "id": "cc5000c4-9a26-4513-9518-79931fb970f2",
   "metadata": {},
   "outputs": [
    {
     "data": {
      "text/plain": [
       "RangeIndex(start=0, stop=150, step=1)"
      ]
     },
     "execution_count": 43,
     "metadata": {},
     "output_type": "execute_result"
    }
   ],
   "source": [
    "firstAgg.index"
   ]
  },
  {
   "cell_type": "markdown",
   "id": "a452dbd8-3df5-46b1-a6b6-75313d685a6a",
   "metadata": {},
   "source": [
    "\t•\tnp.random.choice(...): Genera una muestra aleatoria de valores a partir de una lista de opciones.\n",
    "\t•\tfirstAgg.index: Lista de índices del DataFrame firstAgg desde la cual se seleccionarán los valores. Estos índices representan las filas del DataFrame.\n",
    "\t•\tsize=10000: Tamaño de la muestra, es decir, se seleccionarán 10,000 valores.\n",
    "\t•\tp=list(firstAgg['prob']): Lista de probabilidades asociadas a cada índice. La probabilidad de seleccionar cada índice está definida en la columna ‘prob’ del DataFrame firstAgg.\n",
    "\n",
    "El resultado es una lista llamada randIndex que contiene 10,000 índices seleccionados aleatoriamente del DataFrame firstAgg según las probabilidades especificadas en la columna ‘prob’. Esta lista puede ser utilizada para realizar muestreos o simulaciones basadas en las distribuciones de los datos originales."
   ]
  },
  {
   "cell_type": "code",
   "execution_count": 45,
   "id": "ef0ca5d6-0d7d-4d1d-9e33-111d40adcfaa",
   "metadata": {},
   "outputs": [],
   "source": [
    "randIndex = np.random.choice( \n",
    "    firstAgg.index\n",
    "    , size=10000 \n",
    "    , p = list(firstAgg['prob'])\n",
    ")"
   ]
  },
  {
   "cell_type": "markdown",
   "id": "65576b58-d0a5-4cf0-bb8c-21f6c13f36a1",
   "metadata": {},
   "source": [
    "\t•\tfirstAgg.loc[randIndex, [\"Segment\", \"Country\", \"Product\"]]:\n",
    "\t•\t.loc[]: El método .loc[] se utiliza para seleccionar datos por etiquetas de índice.\n",
    "\t•\trandIndex: La lista de índices seleccionados aleatoriamente.\n",
    "\t•\t[\"Segment\", \"Country\", \"Product\"]: Las columnas que se desean seleccionar del DataFrame firstAgg.\n",
    "Esta parte del código selecciona las filas del DataFrame firstAgg cuyos índices están en randIndex, y solo incluye las columnas “Segment”, “Country” y “Product”.\n",
    "\t•\t.loc[2]: Selecciona la fila con el índice 2 de la selección anterior.\n",
    "\n",
    "El resultado es que esta celda devuelve los valores de las columnas “Segment”, “Country” y “Product” para la fila con el índice 2 dentro de las filas seleccionadas aleatoriamente del DataFrame firstAgg."
   ]
  },
  {
   "cell_type": "code",
   "execution_count": 47,
   "id": "9c7b7fd6-4ce0-44b5-8bed-174ee46468d7",
   "metadata": {},
   "outputs": [],
   "source": [
    "OneSegmnetCountryProduct = firstAgg.loc[ randIndex , [\"Segment\",\"Country\",\"Product\"] ].loc[2]"
   ]
  },
  {
   "cell_type": "code",
   "execution_count": 48,
   "id": "382c1ff6-18af-4e53-b856-dbace7507762",
   "metadata": {},
   "outputs": [
    {
     "data": {
      "text/html": [
       "<div>\n",
       "<style scoped>\n",
       "    .dataframe tbody tr th:only-of-type {\n",
       "        vertical-align: middle;\n",
       "    }\n",
       "\n",
       "    .dataframe tbody tr th {\n",
       "        vertical-align: top;\n",
       "    }\n",
       "\n",
       "    .dataframe thead th {\n",
       "        text-align: right;\n",
       "    }\n",
       "</style>\n",
       "<table border=\"1\" class=\"dataframe\">\n",
       "  <thead>\n",
       "    <tr style=\"text-align: right;\">\n",
       "      <th></th>\n",
       "      <th>Segment</th>\n",
       "      <th>Country</th>\n",
       "      <th>Product</th>\n",
       "    </tr>\n",
       "  </thead>\n",
       "  <tbody>\n",
       "    <tr>\n",
       "      <th>2</th>\n",
       "      <td>Channel Partners</td>\n",
       "      <td>Canada</td>\n",
       "      <td>Montana</td>\n",
       "    </tr>\n",
       "    <tr>\n",
       "      <th>2</th>\n",
       "      <td>Channel Partners</td>\n",
       "      <td>Canada</td>\n",
       "      <td>Montana</td>\n",
       "    </tr>\n",
       "    <tr>\n",
       "      <th>2</th>\n",
       "      <td>Channel Partners</td>\n",
       "      <td>Canada</td>\n",
       "      <td>Montana</td>\n",
       "    </tr>\n",
       "    <tr>\n",
       "      <th>2</th>\n",
       "      <td>Channel Partners</td>\n",
       "      <td>Canada</td>\n",
       "      <td>Montana</td>\n",
       "    </tr>\n",
       "    <tr>\n",
       "      <th>2</th>\n",
       "      <td>Channel Partners</td>\n",
       "      <td>Canada</td>\n",
       "      <td>Montana</td>\n",
       "    </tr>\n",
       "    <tr>\n",
       "      <th>2</th>\n",
       "      <td>Channel Partners</td>\n",
       "      <td>Canada</td>\n",
       "      <td>Montana</td>\n",
       "    </tr>\n",
       "    <tr>\n",
       "      <th>2</th>\n",
       "      <td>Channel Partners</td>\n",
       "      <td>Canada</td>\n",
       "      <td>Montana</td>\n",
       "    </tr>\n",
       "    <tr>\n",
       "      <th>2</th>\n",
       "      <td>Channel Partners</td>\n",
       "      <td>Canada</td>\n",
       "      <td>Montana</td>\n",
       "    </tr>\n",
       "    <tr>\n",
       "      <th>2</th>\n",
       "      <td>Channel Partners</td>\n",
       "      <td>Canada</td>\n",
       "      <td>Montana</td>\n",
       "    </tr>\n",
       "    <tr>\n",
       "      <th>2</th>\n",
       "      <td>Channel Partners</td>\n",
       "      <td>Canada</td>\n",
       "      <td>Montana</td>\n",
       "    </tr>\n",
       "    <tr>\n",
       "      <th>2</th>\n",
       "      <td>Channel Partners</td>\n",
       "      <td>Canada</td>\n",
       "      <td>Montana</td>\n",
       "    </tr>\n",
       "    <tr>\n",
       "      <th>2</th>\n",
       "      <td>Channel Partners</td>\n",
       "      <td>Canada</td>\n",
       "      <td>Montana</td>\n",
       "    </tr>\n",
       "    <tr>\n",
       "      <th>2</th>\n",
       "      <td>Channel Partners</td>\n",
       "      <td>Canada</td>\n",
       "      <td>Montana</td>\n",
       "    </tr>\n",
       "    <tr>\n",
       "      <th>2</th>\n",
       "      <td>Channel Partners</td>\n",
       "      <td>Canada</td>\n",
       "      <td>Montana</td>\n",
       "    </tr>\n",
       "    <tr>\n",
       "      <th>2</th>\n",
       "      <td>Channel Partners</td>\n",
       "      <td>Canada</td>\n",
       "      <td>Montana</td>\n",
       "    </tr>\n",
       "    <tr>\n",
       "      <th>2</th>\n",
       "      <td>Channel Partners</td>\n",
       "      <td>Canada</td>\n",
       "      <td>Montana</td>\n",
       "    </tr>\n",
       "    <tr>\n",
       "      <th>2</th>\n",
       "      <td>Channel Partners</td>\n",
       "      <td>Canada</td>\n",
       "      <td>Montana</td>\n",
       "    </tr>\n",
       "    <tr>\n",
       "      <th>2</th>\n",
       "      <td>Channel Partners</td>\n",
       "      <td>Canada</td>\n",
       "      <td>Montana</td>\n",
       "    </tr>\n",
       "    <tr>\n",
       "      <th>2</th>\n",
       "      <td>Channel Partners</td>\n",
       "      <td>Canada</td>\n",
       "      <td>Montana</td>\n",
       "    </tr>\n",
       "    <tr>\n",
       "      <th>2</th>\n",
       "      <td>Channel Partners</td>\n",
       "      <td>Canada</td>\n",
       "      <td>Montana</td>\n",
       "    </tr>\n",
       "    <tr>\n",
       "      <th>2</th>\n",
       "      <td>Channel Partners</td>\n",
       "      <td>Canada</td>\n",
       "      <td>Montana</td>\n",
       "    </tr>\n",
       "    <tr>\n",
       "      <th>2</th>\n",
       "      <td>Channel Partners</td>\n",
       "      <td>Canada</td>\n",
       "      <td>Montana</td>\n",
       "    </tr>\n",
       "    <tr>\n",
       "      <th>2</th>\n",
       "      <td>Channel Partners</td>\n",
       "      <td>Canada</td>\n",
       "      <td>Montana</td>\n",
       "    </tr>\n",
       "    <tr>\n",
       "      <th>2</th>\n",
       "      <td>Channel Partners</td>\n",
       "      <td>Canada</td>\n",
       "      <td>Montana</td>\n",
       "    </tr>\n",
       "    <tr>\n",
       "      <th>2</th>\n",
       "      <td>Channel Partners</td>\n",
       "      <td>Canada</td>\n",
       "      <td>Montana</td>\n",
       "    </tr>\n",
       "    <tr>\n",
       "      <th>2</th>\n",
       "      <td>Channel Partners</td>\n",
       "      <td>Canada</td>\n",
       "      <td>Montana</td>\n",
       "    </tr>\n",
       "  </tbody>\n",
       "</table>\n",
       "</div>"
      ],
      "text/plain": [
       "            Segment Country  Product\n",
       "2  Channel Partners  Canada  Montana\n",
       "2  Channel Partners  Canada  Montana\n",
       "2  Channel Partners  Canada  Montana\n",
       "2  Channel Partners  Canada  Montana\n",
       "2  Channel Partners  Canada  Montana\n",
       "2  Channel Partners  Canada  Montana\n",
       "2  Channel Partners  Canada  Montana\n",
       "2  Channel Partners  Canada  Montana\n",
       "2  Channel Partners  Canada  Montana\n",
       "2  Channel Partners  Canada  Montana\n",
       "2  Channel Partners  Canada  Montana\n",
       "2  Channel Partners  Canada  Montana\n",
       "2  Channel Partners  Canada  Montana\n",
       "2  Channel Partners  Canada  Montana\n",
       "2  Channel Partners  Canada  Montana\n",
       "2  Channel Partners  Canada  Montana\n",
       "2  Channel Partners  Canada  Montana\n",
       "2  Channel Partners  Canada  Montana\n",
       "2  Channel Partners  Canada  Montana\n",
       "2  Channel Partners  Canada  Montana\n",
       "2  Channel Partners  Canada  Montana\n",
       "2  Channel Partners  Canada  Montana\n",
       "2  Channel Partners  Canada  Montana\n",
       "2  Channel Partners  Canada  Montana\n",
       "2  Channel Partners  Canada  Montana\n",
       "2  Channel Partners  Canada  Montana"
      ]
     },
     "execution_count": 48,
     "metadata": {},
     "output_type": "execute_result"
    }
   ],
   "source": [
    "OneSegmnetCountryProduct"
   ]
  },
  {
   "cell_type": "markdown",
   "id": "191fa698-c4b8-4f2b-8adb-172fa536ca10",
   "metadata": {},
   "source": [
    "### Tarea"
   ]
  },
  {
   "cell_type": "markdown",
   "id": "545f0b60-85cb-46e4-b29b-76fdc4002923",
   "metadata": {},
   "source": [
    "Antes de explicar la tarea, vamos a entender que es lo que hemos hecho hasta el momento. primero observemos nuestro dataframe original exactamente para los valores Channel Partners, Canada, Montana"
   ]
  },
  {
   "cell_type": "code",
   "execution_count": 51,
   "id": "dbd3f133-571e-4341-879b-4395df1a68b8",
   "metadata": {},
   "outputs": [
    {
     "data": {
      "text/html": [
       "<div>\n",
       "<style scoped>\n",
       "    .dataframe tbody tr th:only-of-type {\n",
       "        vertical-align: middle;\n",
       "    }\n",
       "\n",
       "    .dataframe tbody tr th {\n",
       "        vertical-align: top;\n",
       "    }\n",
       "\n",
       "    .dataframe thead th {\n",
       "        text-align: right;\n",
       "    }\n",
       "</style>\n",
       "<table border=\"1\" class=\"dataframe\">\n",
       "  <thead>\n",
       "    <tr style=\"text-align: right;\">\n",
       "      <th></th>\n",
       "      <th>Segment</th>\n",
       "      <th>Country</th>\n",
       "      <th>Product</th>\n",
       "      <th>Discount Band</th>\n",
       "      <th>Units Sold</th>\n",
       "      <th>Manufacturing Price</th>\n",
       "      <th>Sale Price</th>\n",
       "      <th>Discounts</th>\n",
       "      <th>COGS</th>\n",
       "      <th>Date</th>\n",
       "      <th>Year</th>\n",
       "      <th>Month</th>\n",
       "    </tr>\n",
       "  </thead>\n",
       "  <tbody>\n",
       "    <tr>\n",
       "      <th>304</th>\n",
       "      <td>Channel Partners</td>\n",
       "      <td>Canada</td>\n",
       "      <td>Montana</td>\n",
       "      <td>NaN</td>\n",
       "      <td>2518.0</td>\n",
       "      <td>5.0</td>\n",
       "      <td>12.0</td>\n",
       "      <td>0.00</td>\n",
       "      <td>7554.0</td>\n",
       "      <td>2014-06-01</td>\n",
       "      <td>2014</td>\n",
       "      <td>6</td>\n",
       "    </tr>\n",
       "    <tr>\n",
       "      <th>456</th>\n",
       "      <td>Channel Partners</td>\n",
       "      <td>Canada</td>\n",
       "      <td>Montana</td>\n",
       "      <td>Medium</td>\n",
       "      <td>2321.0</td>\n",
       "      <td>5.0</td>\n",
       "      <td>12.0</td>\n",
       "      <td>2506.68</td>\n",
       "      <td>6963.0</td>\n",
       "      <td>2014-11-01</td>\n",
       "      <td>2014</td>\n",
       "      <td>11</td>\n",
       "    </tr>\n",
       "  </tbody>\n",
       "</table>\n",
       "</div>"
      ],
      "text/plain": [
       "              Segment Country  Product Discount Band  Units Sold  \\\n",
       "304  Channel Partners  Canada  Montana           NaN      2518.0   \n",
       "456  Channel Partners  Canada  Montana        Medium      2321.0   \n",
       "\n",
       "     Manufacturing Price  Sale Price  Discounts    COGS       Date  Year  \\\n",
       "304                  5.0        12.0       0.00  7554.0 2014-06-01  2014   \n",
       "456                  5.0        12.0    2506.68  6963.0 2014-11-01  2014   \n",
       "\n",
       "     Month  \n",
       "304      6  \n",
       "456     11  "
      ]
     },
     "execution_count": 51,
     "metadata": {},
     "output_type": "execute_result"
    }
   ],
   "source": [
    "df.loc[ \n",
    "    ( df['Segment'] == 'Channel Partners' )\n",
    "    &\n",
    "    ( df['Country'] == 'Canada' )\n",
    "    &\n",
    "    ( df['Product'] == 'Montana' )\n",
    ", : ]"
   ]
  },
  {
   "cell_type": "code",
   "execution_count": 52,
   "id": "72c44e0b-415d-48fb-9406-4660aa7b51c4",
   "metadata": {},
   "outputs": [
    {
     "data": {
      "text/plain": [
       "(700, 12)"
      ]
     },
     "execution_count": 52,
     "metadata": {},
     "output_type": "execute_result"
    }
   ],
   "source": [
    "df.shape"
   ]
  },
  {
   "cell_type": "markdown",
   "id": "a88a8f19-0cab-454d-9615-6d09e6d44068",
   "metadata": {},
   "source": [
    "Como puede ver ese segmento que seleccionamos solamente tiene dos registros eso significa que ```2/700 = 0.0028 ``` de representatividad en ese dataset de 700 registros\n",
    "\n",
    "lo que queremos hacer es simular ese dataset de 700 a uno de 10,000 por lo que OneSegmnetCountryProduct, es la representación de de ese grupo Channel Partners, Canada, Montana proyectado aleatoreamente. \n",
    "\n",
    "veamos cuantos registros hay en OneSegmentCountryProducts"
   ]
  },
  {
   "cell_type": "code",
   "execution_count": 54,
   "id": "72eb12ae-7e94-4946-822d-5159df5c0da0",
   "metadata": {},
   "outputs": [
    {
     "data": {
      "text/plain": [
       "(26, 3)"
      ]
     },
     "execution_count": 54,
     "metadata": {},
     "output_type": "execute_result"
    }
   ],
   "source": [
    "OneSegmnetCountryProduct.shape"
   ]
  },
  {
   "cell_type": "markdown",
   "id": "89dbdd68-da41-432c-985a-f6f5e85dcc9b",
   "metadata": {},
   "source": [
    "si dividimos ese valor de registros entre 10000 tenderemos como resultado aproximadamente ``` 3/10000 = 0.0035 ``` muy cercano al valor representativo del dataset original. \n",
    "\n",
    "(recuerda que si lo corres todo de 0, como no tenemos una semilla los valores pueden variar ya que son aleatorios)"
   ]
  },
  {
   "cell_type": "markdown",
   "id": "d38cb86e-d589-4ae5-8139-bd0a0430fc2a",
   "metadata": {},
   "source": [
    "Ahora lo que ocupamos es que OneSegmnetCountryProduct se le agreguen los valores de las otras columnas\n",
    "\n",
    "```python\n",
    "\n",
    "[\"Units Sold\",\"Manufacturing Price\",\"Sale Price\",\"Discounts\",\"COGS\"]\n",
    "\n",
    "```\n",
    "\n",
    "selecciona una de esas metricas y usando la funcion de normales truncadas trata de generar los valores aleatorios segun el resumen estadistico de la variable que seleccionaes. \n",
    "\n",
    "Por ejemplo si seleccionaste ```Units Sold``` vas a tener un dataframe de a columnas:\n",
    "\n",
    "- segment\n",
    "- country\n",
    "- product\n",
    "- Units Sold \n"
   ]
  },
  {
   "cell_type": "markdown",
   "id": "9d5793f4-9f37-4ce5-a313-320ce261be56",
   "metadata": {},
   "source": [
    "## Solución tarea\n",
    "\n",
    "Units Sold"
   ]
  },
  {
   "cell_type": "code",
   "execution_count": 102,
   "id": "8aaa8ed4-a08b-4324-8199-82f78721da22",
   "metadata": {},
   "outputs": [],
   "source": [
    "a1 = df.loc[\n",
    "    ( df['Segment'] == \"Channel Partners\" )\n",
    "    &\n",
    "    ( df['Country'] == \"Canada\" )\n",
    "    &\n",
    "    ( df['Product'] == \"Montana\" )\n",
    ",\n",
    "    :\n",
    "].groupby(\n",
    "    [ \"Segment\" , \"Country\" , \"Product\" ]\n",
    "    , as_index = False\n",
    ").agg(\n",
    "    {\n",
    "        \"Units Sold\": [\"min\",\"max\",\"mean\",\"std\"]\n",
    "    }\n",
    ")\n",
    "\n",
    "a1.columns = [ \"Segment\" , \"Country\" , \"Product\" , \"Min\" , \"Max\" , \"Mean\" , \"Std\" ]"
   ]
  },
  {
   "cell_type": "code",
   "execution_count": 112,
   "id": "c8c1fcd4-94eb-415a-993e-97fc56cf909c",
   "metadata": {
    "scrolled": true
   },
   "outputs": [],
   "source": [
    "data = generate_truncated_normal_data(\n",
    "    a1[\"Mean\"][0]\n",
    "    , a1[\"Std\"][0]\n",
    "    , a1[\"Min\"][0]\n",
    "    , a1[\"Max\"][0]\n",
    "    , OneSegmnetCountryProduct.shape[0]\n",
    ")"
   ]
  },
  {
   "cell_type": "code",
   "execution_count": 114,
   "id": "dc996ee8-5886-4fb3-9c87-6fcbe0df2ada",
   "metadata": {},
   "outputs": [],
   "source": [
    "OneSegmnetCountryProduct[\"Units Sold\"] = data"
   ]
  },
  {
   "cell_type": "code",
   "execution_count": 182,
   "id": "10d17254-315c-4bfd-9e95-b41b4f4ea071",
   "metadata": {},
   "outputs": [
    {
     "data": {
      "text/html": [
       "<div>\n",
       "<style scoped>\n",
       "    .dataframe tbody tr th:only-of-type {\n",
       "        vertical-align: middle;\n",
       "    }\n",
       "\n",
       "    .dataframe tbody tr th {\n",
       "        vertical-align: top;\n",
       "    }\n",
       "\n",
       "    .dataframe thead th {\n",
       "        text-align: right;\n",
       "    }\n",
       "</style>\n",
       "<table border=\"1\" class=\"dataframe\">\n",
       "  <thead>\n",
       "    <tr style=\"text-align: right;\">\n",
       "      <th></th>\n",
       "      <th>Segment</th>\n",
       "      <th>Country</th>\n",
       "      <th>Product</th>\n",
       "      <th>Units Sold</th>\n",
       "    </tr>\n",
       "  </thead>\n",
       "  <tbody>\n",
       "    <tr>\n",
       "      <th>149</th>\n",
       "      <td>Small Business</td>\n",
       "      <td>USA</td>\n",
       "      <td>Velo</td>\n",
       "      <td>1754.41953</td>\n",
       "    </tr>\n",
       "  </tbody>\n",
       "</table>\n",
       "</div>"
      ],
      "text/plain": [
       "            Segment Country Product  Units Sold\n",
       "149  Small Business     USA    Velo  1754.41953"
      ]
     },
     "execution_count": 182,
     "metadata": {},
     "output_type": "execute_result"
    }
   ],
   "source": [
    "OneSegmnetCountryProduct.head(1)"
   ]
  },
  {
   "cell_type": "markdown",
   "id": "fe26c5dc-fd98-4b62-947c-bb65daaf0129",
   "metadata": {},
   "source": [
    "# Ahora probemos a generar los valores para las demas combinaciones "
   ]
  },
  {
   "cell_type": "code",
   "execution_count": 119,
   "id": "65a6ba03-d68a-4d8a-95e2-3fd5756193c6",
   "metadata": {},
   "outputs": [
    {
     "data": {
      "text/plain": [
       "array([147,  68,  93, ...,  87, 106,  81])"
      ]
     },
     "execution_count": 119,
     "metadata": {},
     "output_type": "execute_result"
    }
   ],
   "source": [
    "randIndex"
   ]
  },
  {
   "cell_type": "code",
   "execution_count": 135,
   "id": "dd2b98a4-b340-4ddb-b053-52a472fc955e",
   "metadata": {},
   "outputs": [],
   "source": [
    "simulated  = firstAgg.loc[ randIndex , [ \"Segment\" , \"Country\" , \"Product\" ] ]"
   ]
  },
  {
   "cell_type": "code",
   "execution_count": 147,
   "id": "85b943a3-84cf-4908-bc01-0c35c08aa680",
   "metadata": {},
   "outputs": [],
   "source": [
    "column_name = \"Units Sold\""
   ]
  },
  {
   "cell_type": "code",
   "execution_count": 149,
   "id": "c4b025a4-4621-4446-b4d2-55a801368c11",
   "metadata": {},
   "outputs": [],
   "source": [
    "a1 = df.groupby(\n",
    "    [ \"Segment\" , \"Country\" , \"Product\" ]\n",
    "    , as_index = False\n",
    ").agg(\n",
    "    {\n",
    "        column_name: [\"min\",\"max\",\"mean\",\"std\"]\n",
    "    }\n",
    ")"
   ]
  },
  {
   "cell_type": "code",
   "execution_count": 165,
   "id": "e0e5d19d-ae6e-4fcf-ae52-c31a8b26396e",
   "metadata": {},
   "outputs": [],
   "source": [
    "a1.columns = [ \"Segment\" , \"Country\" , \"Product\" , \"Min\" , \"Max\" , \"Mean\" , \"Std\" ]"
   ]
  },
  {
   "cell_type": "code",
   "execution_count": 177,
   "id": "b779cf60-8e37-4930-97eb-a48d755b59d7",
   "metadata": {},
   "outputs": [],
   "source": [
    "ColumnSimulated = pd.DataFrame()\n",
    "for i in a1.index:\n",
    "    rs = a1.loc[i]\n",
    "    OneSegmnetCountryProduct = simulated.loc[i].copy()    \n",
    "\n",
    "    data = generate_truncated_normal_data(\n",
    "        rs[\"Mean\"]\n",
    "        , rs[\"Std\"]\n",
    "        , rs[\"Min\"]\n",
    "        , rs[\"Max\"]\n",
    "        , OneSegmnetCountryProduct.shape[0]\n",
    "    )\n",
    "\n",
    "    OneSegmnetCountryProduct[column_name] = data\n",
    "\n",
    "    ColumnSimulated = pd.concat( [ ColumnSimulated , OneSegmnetCountryProduct  ] )"
   ]
  },
  {
   "cell_type": "code",
   "execution_count": 179,
   "id": "8cab22df-57c2-4914-a651-d3bfcc74c715",
   "metadata": {},
   "outputs": [
    {
     "data": {
      "text/html": [
       "<div>\n",
       "<style scoped>\n",
       "    .dataframe tbody tr th:only-of-type {\n",
       "        vertical-align: middle;\n",
       "    }\n",
       "\n",
       "    .dataframe tbody tr th {\n",
       "        vertical-align: top;\n",
       "    }\n",
       "\n",
       "    .dataframe thead th {\n",
       "        text-align: right;\n",
       "    }\n",
       "</style>\n",
       "<table border=\"1\" class=\"dataframe\">\n",
       "  <thead>\n",
       "    <tr style=\"text-align: right;\">\n",
       "      <th></th>\n",
       "      <th>Segment</th>\n",
       "      <th>Country</th>\n",
       "      <th>Product</th>\n",
       "      <th>Units Sold</th>\n",
       "    </tr>\n",
       "  </thead>\n",
       "  <tbody>\n",
       "    <tr>\n",
       "      <th>0</th>\n",
       "      <td>Channel Partners</td>\n",
       "      <td>Canada</td>\n",
       "      <td>Amarilla</td>\n",
       "      <td>2852.048284</td>\n",
       "    </tr>\n",
       "    <tr>\n",
       "      <th>0</th>\n",
       "      <td>Channel Partners</td>\n",
       "      <td>Canada</td>\n",
       "      <td>Amarilla</td>\n",
       "      <td>3131.135451</td>\n",
       "    </tr>\n",
       "    <tr>\n",
       "      <th>0</th>\n",
       "      <td>Channel Partners</td>\n",
       "      <td>Canada</td>\n",
       "      <td>Amarilla</td>\n",
       "      <td>3235.337786</td>\n",
       "    </tr>\n",
       "    <tr>\n",
       "      <th>0</th>\n",
       "      <td>Channel Partners</td>\n",
       "      <td>Canada</td>\n",
       "      <td>Amarilla</td>\n",
       "      <td>3263.109970</td>\n",
       "    </tr>\n",
       "    <tr>\n",
       "      <th>0</th>\n",
       "      <td>Channel Partners</td>\n",
       "      <td>Canada</td>\n",
       "      <td>Amarilla</td>\n",
       "      <td>3421.039795</td>\n",
       "    </tr>\n",
       "    <tr>\n",
       "      <th>...</th>\n",
       "      <td>...</td>\n",
       "      <td>...</td>\n",
       "      <td>...</td>\n",
       "      <td>...</td>\n",
       "    </tr>\n",
       "    <tr>\n",
       "      <th>149</th>\n",
       "      <td>Small Business</td>\n",
       "      <td>USA</td>\n",
       "      <td>Velo</td>\n",
       "      <td>2319.421614</td>\n",
       "    </tr>\n",
       "    <tr>\n",
       "      <th>149</th>\n",
       "      <td>Small Business</td>\n",
       "      <td>USA</td>\n",
       "      <td>Velo</td>\n",
       "      <td>2459.080272</td>\n",
       "    </tr>\n",
       "    <tr>\n",
       "      <th>149</th>\n",
       "      <td>Small Business</td>\n",
       "      <td>USA</td>\n",
       "      <td>Velo</td>\n",
       "      <td>2527.181985</td>\n",
       "    </tr>\n",
       "    <tr>\n",
       "      <th>149</th>\n",
       "      <td>Small Business</td>\n",
       "      <td>USA</td>\n",
       "      <td>Velo</td>\n",
       "      <td>1961.176127</td>\n",
       "    </tr>\n",
       "    <tr>\n",
       "      <th>149</th>\n",
       "      <td>Small Business</td>\n",
       "      <td>USA</td>\n",
       "      <td>Velo</td>\n",
       "      <td>1961.729331</td>\n",
       "    </tr>\n",
       "  </tbody>\n",
       "</table>\n",
       "<p>10000 rows × 4 columns</p>\n",
       "</div>"
      ],
      "text/plain": [
       "              Segment Country   Product   Units Sold\n",
       "0    Channel Partners  Canada  Amarilla  2852.048284\n",
       "0    Channel Partners  Canada  Amarilla  3131.135451\n",
       "0    Channel Partners  Canada  Amarilla  3235.337786\n",
       "0    Channel Partners  Canada  Amarilla  3263.109970\n",
       "0    Channel Partners  Canada  Amarilla  3421.039795\n",
       "..                ...     ...       ...          ...\n",
       "149    Small Business     USA      Velo  2319.421614\n",
       "149    Small Business     USA      Velo  2459.080272\n",
       "149    Small Business     USA      Velo  2527.181985\n",
       "149    Small Business     USA      Velo  1961.176127\n",
       "149    Small Business     USA      Velo  1961.729331\n",
       "\n",
       "[10000 rows x 4 columns]"
      ]
     },
     "execution_count": 179,
     "metadata": {},
     "output_type": "execute_result"
    }
   ],
   "source": [
    "ColumnSimulated"
   ]
  },
  {
   "cell_type": "markdown",
   "id": "a127d202-5cd1-4147-b80a-7e60e7ac13ea",
   "metadata": {},
   "source": [
    "## Ahora para todas las columnas"
   ]
  },
  {
   "cell_type": "code",
   "execution_count": 206,
   "id": "24d23757-190c-4a1b-a660-b4d5c95c5823",
   "metadata": {},
   "outputs": [],
   "source": [
    "categories = [ \"Segment\" , \"Country\" , \"Product\" ]\n",
    "\n",
    "simulated  = firstAgg.loc[ randIndex , categories ]\n",
    "\n",
    "column_name = \"Units Sold\""
   ]
  },
  {
   "cell_type": "code",
   "execution_count": 232,
   "id": "b5a8550f-2ece-4747-b442-f1978895f57c",
   "metadata": {},
   "outputs": [],
   "source": [
    "def get_numeric_column_simulated( simulated , df_origin , categories , column_name ):\n",
    "\n",
    "    a1 = df_origin.groupby(\n",
    "        categories\n",
    "        , as_index = False\n",
    "    ).agg(\n",
    "        {\n",
    "            column_name: [\"min\",\"max\",\"mean\",\"std\"]\n",
    "        }\n",
    "    )\n",
    "    nc = [ c for c in categories ]\n",
    "    nc.extend( [\"Min\" , \"Max\" , \"Mean\" , \"Std\"] )\n",
    "    a1.columns = nc\n",
    "\n",
    "    ColumnSimulated = pd.DataFrame()\n",
    "    for i in a1.index:\n",
    "        rs = a1.loc[i]\n",
    "        OneSegmnetCountryProduct = simulated.loc[i].copy()    \n",
    "    \n",
    "        data = generate_truncated_normal_data(\n",
    "            rs[\"Mean\"]\n",
    "            , 1 if rs[\"Std\"] == 0 else rs[\"Std\"]\n",
    "            , rs[\"Min\"] - 1 if rs[\"Std\"] == 0 else rs[\"Min\"]\n",
    "            , rs[\"Max\"] + 1 if rs[\"Std\"] == 0 else rs[\"Max\"]\n",
    "            , OneSegmnetCountryProduct.shape[0]\n",
    "        )\n",
    "    \n",
    "        OneSegmnetCountryProduct[column_name] = data\n",
    "    \n",
    "        ColumnSimulated = pd.concat( [ ColumnSimulated , OneSegmnetCountryProduct  ] )\n",
    "\n",
    "    return ColumnSimulated.reset_index(drop=True)\n",
    "    "
   ]
  },
  {
   "cell_type": "code",
   "execution_count": 254,
   "id": "1583d3f3-0134-4455-9cd1-195bab224e2e",
   "metadata": {},
   "outputs": [],
   "source": [
    "numeric_columns = [\"Units Sold\",\"Manufacturing Price\",\"Sale Price\",\"Discounts\",\"COGS\"]\n",
    "\n",
    "final_simulation = simulated.sort_index().reset_index(drop=True).copy()\n",
    "\n",
    "for nc in numeric_columns:\n",
    "    ncdf = get_numeric_column_simulated( simulated , df , categories , nc )\n",
    "\n",
    "    final_simulation = pd.merge( final_simulation , ncdf.loc[ : , [nc] ] , left_index=True , right_index=True )"
   ]
  },
  {
   "cell_type": "code",
   "execution_count": 256,
   "id": "4e3cc2bf-6df4-47bf-9b0a-51742ec820b6",
   "metadata": {},
   "outputs": [
    {
     "data": {
      "text/html": [
       "<div>\n",
       "<style scoped>\n",
       "    .dataframe tbody tr th:only-of-type {\n",
       "        vertical-align: middle;\n",
       "    }\n",
       "\n",
       "    .dataframe tbody tr th {\n",
       "        vertical-align: top;\n",
       "    }\n",
       "\n",
       "    .dataframe thead th {\n",
       "        text-align: right;\n",
       "    }\n",
       "</style>\n",
       "<table border=\"1\" class=\"dataframe\">\n",
       "  <thead>\n",
       "    <tr style=\"text-align: right;\">\n",
       "      <th></th>\n",
       "      <th>Segment</th>\n",
       "      <th>Country</th>\n",
       "      <th>Product</th>\n",
       "      <th>Units Sold</th>\n",
       "      <th>Manufacturing Price</th>\n",
       "      <th>Sale Price</th>\n",
       "      <th>Discounts</th>\n",
       "      <th>COGS</th>\n",
       "    </tr>\n",
       "  </thead>\n",
       "  <tbody>\n",
       "    <tr>\n",
       "      <th>0</th>\n",
       "      <td>Channel Partners</td>\n",
       "      <td>Canada</td>\n",
       "      <td>Amarilla</td>\n",
       "      <td>2917.997106</td>\n",
       "      <td>259.849374</td>\n",
       "      <td>12.437681</td>\n",
       "      <td>4043.190781</td>\n",
       "      <td>9637.349816</td>\n",
       "    </tr>\n",
       "    <tr>\n",
       "      <th>1</th>\n",
       "      <td>Channel Partners</td>\n",
       "      <td>Canada</td>\n",
       "      <td>Amarilla</td>\n",
       "      <td>2766.607718</td>\n",
       "      <td>260.603635</td>\n",
       "      <td>12.015759</td>\n",
       "      <td>4157.609839</td>\n",
       "      <td>8329.526779</td>\n",
       "    </tr>\n",
       "    <tr>\n",
       "      <th>2</th>\n",
       "      <td>Channel Partners</td>\n",
       "      <td>Canada</td>\n",
       "      <td>Amarilla</td>\n",
       "      <td>3032.646353</td>\n",
       "      <td>259.789951</td>\n",
       "      <td>12.882610</td>\n",
       "      <td>4179.070591</td>\n",
       "      <td>9463.462601</td>\n",
       "    </tr>\n",
       "    <tr>\n",
       "      <th>3</th>\n",
       "      <td>Channel Partners</td>\n",
       "      <td>Canada</td>\n",
       "      <td>Amarilla</td>\n",
       "      <td>2819.858625</td>\n",
       "      <td>259.598765</td>\n",
       "      <td>12.262142</td>\n",
       "      <td>4127.335839</td>\n",
       "      <td>8946.893312</td>\n",
       "    </tr>\n",
       "    <tr>\n",
       "      <th>4</th>\n",
       "      <td>Channel Partners</td>\n",
       "      <td>Canada</td>\n",
       "      <td>Amarilla</td>\n",
       "      <td>3345.482756</td>\n",
       "      <td>259.991461</td>\n",
       "      <td>11.937642</td>\n",
       "      <td>4045.237646</td>\n",
       "      <td>8436.455735</td>\n",
       "    </tr>\n",
       "    <tr>\n",
       "      <th>...</th>\n",
       "      <td>...</td>\n",
       "      <td>...</td>\n",
       "      <td>...</td>\n",
       "      <td>...</td>\n",
       "      <td>...</td>\n",
       "      <td>...</td>\n",
       "      <td>...</td>\n",
       "      <td>...</td>\n",
       "    </tr>\n",
       "    <tr>\n",
       "      <th>9995</th>\n",
       "      <td>Small Business</td>\n",
       "      <td>USA</td>\n",
       "      <td>Velo</td>\n",
       "      <td>2439.408131</td>\n",
       "      <td>120.746999</td>\n",
       "      <td>299.654688</td>\n",
       "      <td>51193.663163</td>\n",
       "      <td>576748.431997</td>\n",
       "    </tr>\n",
       "    <tr>\n",
       "      <th>9996</th>\n",
       "      <td>Small Business</td>\n",
       "      <td>USA</td>\n",
       "      <td>Velo</td>\n",
       "      <td>2471.585323</td>\n",
       "      <td>120.486344</td>\n",
       "      <td>300.563071</td>\n",
       "      <td>79520.593218</td>\n",
       "      <td>515242.159242</td>\n",
       "    </tr>\n",
       "    <tr>\n",
       "      <th>9997</th>\n",
       "      <td>Small Business</td>\n",
       "      <td>USA</td>\n",
       "      <td>Velo</td>\n",
       "      <td>2456.616177</td>\n",
       "      <td>120.195591</td>\n",
       "      <td>299.904147</td>\n",
       "      <td>44507.599305</td>\n",
       "      <td>594487.614556</td>\n",
       "    </tr>\n",
       "    <tr>\n",
       "      <th>9998</th>\n",
       "      <td>Small Business</td>\n",
       "      <td>USA</td>\n",
       "      <td>Velo</td>\n",
       "      <td>1512.929461</td>\n",
       "      <td>119.335194</td>\n",
       "      <td>300.185636</td>\n",
       "      <td>76286.664388</td>\n",
       "      <td>472471.874737</td>\n",
       "    </tr>\n",
       "    <tr>\n",
       "      <th>9999</th>\n",
       "      <td>Small Business</td>\n",
       "      <td>USA</td>\n",
       "      <td>Velo</td>\n",
       "      <td>1964.860863</td>\n",
       "      <td>119.688862</td>\n",
       "      <td>299.754195</td>\n",
       "      <td>76769.714230</td>\n",
       "      <td>493366.461130</td>\n",
       "    </tr>\n",
       "  </tbody>\n",
       "</table>\n",
       "<p>10000 rows × 8 columns</p>\n",
       "</div>"
      ],
      "text/plain": [
       "               Segment Country   Product   Units Sold  Manufacturing Price  \\\n",
       "0     Channel Partners  Canada  Amarilla  2917.997106           259.849374   \n",
       "1     Channel Partners  Canada  Amarilla  2766.607718           260.603635   \n",
       "2     Channel Partners  Canada  Amarilla  3032.646353           259.789951   \n",
       "3     Channel Partners  Canada  Amarilla  2819.858625           259.598765   \n",
       "4     Channel Partners  Canada  Amarilla  3345.482756           259.991461   \n",
       "...                ...     ...       ...          ...                  ...   \n",
       "9995    Small Business     USA      Velo  2439.408131           120.746999   \n",
       "9996    Small Business     USA      Velo  2471.585323           120.486344   \n",
       "9997    Small Business     USA      Velo  2456.616177           120.195591   \n",
       "9998    Small Business     USA      Velo  1512.929461           119.335194   \n",
       "9999    Small Business     USA      Velo  1964.860863           119.688862   \n",
       "\n",
       "      Sale Price     Discounts           COGS  \n",
       "0      12.437681   4043.190781    9637.349816  \n",
       "1      12.015759   4157.609839    8329.526779  \n",
       "2      12.882610   4179.070591    9463.462601  \n",
       "3      12.262142   4127.335839    8946.893312  \n",
       "4      11.937642   4045.237646    8436.455735  \n",
       "...          ...           ...            ...  \n",
       "9995  299.654688  51193.663163  576748.431997  \n",
       "9996  300.563071  79520.593218  515242.159242  \n",
       "9997  299.904147  44507.599305  594487.614556  \n",
       "9998  300.185636  76286.664388  472471.874737  \n",
       "9999  299.754195  76769.714230  493366.461130  \n",
       "\n",
       "[10000 rows x 8 columns]"
      ]
     },
     "execution_count": 256,
     "metadata": {},
     "output_type": "execute_result"
    }
   ],
   "source": [
    "final_simulation"
   ]
  },
  {
   "cell_type": "code",
   "execution_count": 222,
   "id": "6e74e7d0-9e39-40df-a66f-5f09593fbc75",
   "metadata": {},
   "outputs": [
    {
     "data": {
      "text/html": [
       "<div>\n",
       "<style scoped>\n",
       "    .dataframe tbody tr th:only-of-type {\n",
       "        vertical-align: middle;\n",
       "    }\n",
       "\n",
       "    .dataframe tbody tr th {\n",
       "        vertical-align: top;\n",
       "    }\n",
       "\n",
       "    .dataframe thead th {\n",
       "        text-align: right;\n",
       "    }\n",
       "</style>\n",
       "<table border=\"1\" class=\"dataframe\">\n",
       "  <thead>\n",
       "    <tr style=\"text-align: right;\">\n",
       "      <th></th>\n",
       "      <th>Segment</th>\n",
       "      <th>Country</th>\n",
       "      <th>Product</th>\n",
       "    </tr>\n",
       "  </thead>\n",
       "  <tbody>\n",
       "    <tr>\n",
       "      <th>0</th>\n",
       "      <td>Channel Partners</td>\n",
       "      <td>Canada</td>\n",
       "      <td>Amarilla</td>\n",
       "    </tr>\n",
       "    <tr>\n",
       "      <th>1</th>\n",
       "      <td>Channel Partners</td>\n",
       "      <td>Canada</td>\n",
       "      <td>Amarilla</td>\n",
       "    </tr>\n",
       "    <tr>\n",
       "      <th>2</th>\n",
       "      <td>Channel Partners</td>\n",
       "      <td>Canada</td>\n",
       "      <td>Amarilla</td>\n",
       "    </tr>\n",
       "    <tr>\n",
       "      <th>3</th>\n",
       "      <td>Channel Partners</td>\n",
       "      <td>Canada</td>\n",
       "      <td>Amarilla</td>\n",
       "    </tr>\n",
       "    <tr>\n",
       "      <th>4</th>\n",
       "      <td>Channel Partners</td>\n",
       "      <td>Canada</td>\n",
       "      <td>Amarilla</td>\n",
       "    </tr>\n",
       "    <tr>\n",
       "      <th>...</th>\n",
       "      <td>...</td>\n",
       "      <td>...</td>\n",
       "      <td>...</td>\n",
       "    </tr>\n",
       "    <tr>\n",
       "      <th>9995</th>\n",
       "      <td>Small Business</td>\n",
       "      <td>USA</td>\n",
       "      <td>Velo</td>\n",
       "    </tr>\n",
       "    <tr>\n",
       "      <th>9996</th>\n",
       "      <td>Small Business</td>\n",
       "      <td>USA</td>\n",
       "      <td>Velo</td>\n",
       "    </tr>\n",
       "    <tr>\n",
       "      <th>9997</th>\n",
       "      <td>Small Business</td>\n",
       "      <td>USA</td>\n",
       "      <td>Velo</td>\n",
       "    </tr>\n",
       "    <tr>\n",
       "      <th>9998</th>\n",
       "      <td>Small Business</td>\n",
       "      <td>USA</td>\n",
       "      <td>Velo</td>\n",
       "    </tr>\n",
       "    <tr>\n",
       "      <th>9999</th>\n",
       "      <td>Small Business</td>\n",
       "      <td>USA</td>\n",
       "      <td>Velo</td>\n",
       "    </tr>\n",
       "  </tbody>\n",
       "</table>\n",
       "<p>10000 rows × 3 columns</p>\n",
       "</div>"
      ],
      "text/plain": [
       "               Segment Country   Product\n",
       "0     Channel Partners  Canada  Amarilla\n",
       "1     Channel Partners  Canada  Amarilla\n",
       "2     Channel Partners  Canada  Amarilla\n",
       "3     Channel Partners  Canada  Amarilla\n",
       "4     Channel Partners  Canada  Amarilla\n",
       "...                ...     ...       ...\n",
       "9995    Small Business     USA      Velo\n",
       "9996    Small Business     USA      Velo\n",
       "9997    Small Business     USA      Velo\n",
       "9998    Small Business     USA      Velo\n",
       "9999    Small Business     USA      Velo\n",
       "\n",
       "[10000 rows x 3 columns]"
      ]
     },
     "execution_count": 222,
     "metadata": {},
     "output_type": "execute_result"
    }
   ],
   "source": [
    "simulated.sort_index().reset_index(drop=True)"
   ]
  },
  {
   "cell_type": "code",
   "execution_count": 202,
   "id": "b05be78c-7bb8-462d-904f-f45717422657",
   "metadata": {},
   "outputs": [
    {
     "data": {
      "text/plain": [
       "['Segment', 'Country', 'Product', 'Min', 'Max', 'Mean', 'Std']"
      ]
     },
     "execution_count": 202,
     "metadata": {},
     "output_type": "execute_result"
    }
   ],
   "source": [
    "nc"
   ]
  },
  {
   "cell_type": "code",
   "execution_count": null,
   "id": "28eccac9-bbfc-4304-91dd-1a96ae2705be",
   "metadata": {},
   "outputs": [],
   "source": []
  }
 ],
 "metadata": {
  "kernelspec": {
   "display_name": "Python 3 (ipykernel)",
   "language": "python",
   "name": "python3"
  },
  "language_info": {
   "codemirror_mode": {
    "name": "ipython",
    "version": 3
   },
   "file_extension": ".py",
   "mimetype": "text/x-python",
   "name": "python",
   "nbconvert_exporter": "python",
   "pygments_lexer": "ipython3",
   "version": "3.11.5"
  }
 },
 "nbformat": 4,
 "nbformat_minor": 5
}
