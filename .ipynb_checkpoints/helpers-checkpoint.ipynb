{
 "cells": [
  {
   "cell_type": "code",
   "execution_count": 4,
   "id": "1b9a046d-1eb0-4011-b55c-9ac50d781a69",
   "metadata": {},
   "outputs": [],
   "source": [
    "import pandas as pd\n",
    "import numpy as np\n",
    "import random"
   ]
  },
  {
   "cell_type": "code",
   "execution_count": 6,
   "id": "88fb3626-df33-443a-b742-b06e4c28ce5d",
   "metadata": {},
   "outputs": [
    {
     "data": {
      "text/plain": [
       "DatetimeIndex(['2023-01-01', '2023-01-02', '2023-01-03', '2023-01-04',\n",
       "               '2023-01-05', '2023-01-06', '2023-01-07', '2023-01-08',\n",
       "               '2023-01-09', '2023-01-10', '2023-01-11', '2023-01-12',\n",
       "               '2023-01-13', '2023-01-14', '2023-01-15', '2023-01-16',\n",
       "               '2023-01-17', '2023-01-18', '2023-01-19', '2023-01-20'],\n",
       "              dtype='datetime64[ns]', freq='D')"
      ]
     },
     "execution_count": 6,
     "metadata": {},
     "output_type": "execute_result"
    }
   ],
   "source": [
    "pd.date_range( start = '2023-01-01' , end = '2023-01-20' , freq = 'D' )"
   ]
  },
  {
   "cell_type": "markdown",
   "id": "e0a2e2ef-1f53-4ec5-8d95-286661dab286",
   "metadata": {},
   "source": [
    "## Creacion de un diccionarios"
   ]
  },
  {
   "cell_type": "code",
   "execution_count": 9,
   "id": "eb313c19-bb5f-43a9-9d46-1e102d249f28",
   "metadata": {},
   "outputs": [],
   "source": [
    "diccionario = {}"
   ]
  },
  {
   "cell_type": "code",
   "execution_count": 11,
   "id": "9e0a2287-8de4-4b31-b8ab-7ed07ae03f2e",
   "metadata": {},
   "outputs": [],
   "source": [
    "diccionario = {\n",
    "    \"nombre\": \"uayeb\"\n",
    "    , \"apellido\": \"caballero\"\n",
    "    , \"edad\": 35\n",
    "    , \"edad\": 44\n",
    "    , \"materias_cursadas\": [\n",
    "        {\n",
    "            \"id\": 1\n",
    "            , \"name\": 'Teoria'\n",
    "            , \"HI\": 7\n",
    "            , \"HF\": 10\n",
    "        },{\n",
    "            \"id\": 2\n",
    "            , \"name\": 'Expertos'\n",
    "            , \"HI\": 7\n",
    "            , \"HF\": 10\n",
    "        }\n",
    "    ],\n",
    "    \"depto\": {\n",
    "        \"id\": 23\n",
    "         , \"name\": \"IS\"\n",
    "    }\n",
    "}"
   ]
  },
  {
   "cell_type": "code",
   "execution_count": 13,
   "id": "be2d3240-294c-4074-bbe2-6f592b084ae8",
   "metadata": {},
   "outputs": [
    {
     "data": {
      "text/plain": [
       "{'nombre': 'uayeb',\n",
       " 'apellido': 'caballero',\n",
       " 'edad': 44,\n",
       " 'materias_cursadas': [{'id': 1, 'name': 'Teoria', 'HI': 7, 'HF': 10},\n",
       "  {'id': 2, 'name': 'Expertos', 'HI': 7, 'HF': 10}],\n",
       " 'depto': {'id': 23, 'name': 'IS'}}"
      ]
     },
     "execution_count": 13,
     "metadata": {},
     "output_type": "execute_result"
    }
   ],
   "source": [
    "diccionario"
   ]
  },
  {
   "cell_type": "code",
   "execution_count": 15,
   "id": "ac008fb7-1530-4c63-b2f6-e1f13ce04834",
   "metadata": {},
   "outputs": [],
   "source": [
    "diccionario['genero'] = 'M'"
   ]
  },
  {
   "cell_type": "code",
   "execution_count": 17,
   "id": "9699efe0-e3b6-4bbf-881d-76eecce35e66",
   "metadata": {},
   "outputs": [
    {
     "data": {
      "text/plain": [
       "'Teoria'"
      ]
     },
     "execution_count": 17,
     "metadata": {},
     "output_type": "execute_result"
    }
   ],
   "source": [
    "diccionario[\"materias_cursadas\"][0][\"name\"]"
   ]
  },
  {
   "cell_type": "code",
   "execution_count": 19,
   "id": "115b94ec-6581-4d32-ba9b-01d7db18b091",
   "metadata": {},
   "outputs": [
    {
     "data": {
      "text/plain": [
       "'IS'"
      ]
     },
     "execution_count": 19,
     "metadata": {},
     "output_type": "execute_result"
    }
   ],
   "source": [
    "diccionario['depto']['name']"
   ]
  },
  {
   "cell_type": "markdown",
   "id": "5ea6a930-4c74-47a6-b9b3-56b0c8140da4",
   "metadata": {},
   "source": [
    "## Diccionario metadata de configuraciones"
   ]
  },
  {
   "cell_type": "code",
   "execution_count": 22,
   "id": "c2ea344c-d57d-4088-892d-9ebea895247e",
   "metadata": {},
   "outputs": [],
   "source": [
    "def get_random_categories( items , n  ):\n",
    "    return random.choices(items, k=n)\n",
    "\n",
    "\n",
    "def get_random_numbers( min , max, n ):\n",
    "    values = []\n",
    "    for i in range(n):\n",
    "        values.append(\n",
    "            random.randint(min, max)\n",
    "        )\n",
    "    return values\n",
    "\n",
    "def get_random_dates( min , max , n ):\n",
    "    items = pd.date_range( start = min , end = max , freq = 'D' )\n",
    "    return get_random_categories( items , n )"
   ]
  },
  {
   "cell_type": "code",
   "execution_count": 24,
   "id": "3ca481e8-9e83-4fbc-bf02-d37bf5247587",
   "metadata": {},
   "outputs": [
    {
     "data": {
      "text/plain": [
       "False"
      ]
     },
     "execution_count": 24,
     "metadata": {},
     "output_type": "execute_result"
    }
   ],
   "source": [
    "'C' in ['A','B']"
   ]
  },
  {
   "cell_type": "code",
   "execution_count": 26,
   "id": "bb167691-b316-42a7-8c91-868b4a46abae",
   "metadata": {},
   "outputs": [],
   "source": [
    "def get_dataframe( sett , num_records ):\n",
    "    metadata_df = {}\n",
    "\n",
    "    types = [ 'categorico' , 'numerico' , 'date' ]\n",
    "    \n",
    "    for k in sett.keys():\n",
    "        if sett[k][\"tipo\"] in types:\n",
    "            if sett[k]['tipo'] == \"categorico\":\n",
    "                values = get_random_categories( sett[k]['conf'] , num_records  )\n",
    "\n",
    "            if sett[k]['tipo'] == \"numerico\":\n",
    "                values = get_random_numbers( \n",
    "                    sett[k]['conf']['min'] \n",
    "                    , sett[k]['conf']['max']\n",
    "                    , num_records \n",
    "                )\n",
    "        \n",
    "            if sett[k]['tipo'] == \"date\":\n",
    "                values = get_random_dates( \n",
    "                    sett[k]['conf'][0]            \n",
    "                    , sett[k]['conf'][1] \n",
    "                    , num_records \n",
    "                )\n",
    "                \n",
    "            \n",
    "            metadata_df[k] = values\n",
    "            \n",
    "    return pd.DataFrame( metadata_df )\n",
    "\n"
   ]
  },
  {
   "cell_type": "code",
   "execution_count": 28,
   "id": "68c451af-dcc0-4c23-a5be-c4cf7ee061e7",
   "metadata": {},
   "outputs": [],
   "source": [
    "settings = {\n",
    "    \"depto\": {\n",
    "        \"tipo\": \"categorico\"\n",
    "        , \"conf\": [\"IS\",\"II\",\"IQ\",\"MK\"]\n",
    "    }\n",
    "    , \"numero_empleados_inv\": {\n",
    "        \"tipo\": \"numericos\"\n",
    "        , \"conf\": {\n",
    "            \"min\": 5\n",
    "            , \"max\": 20\n",
    "        }\n",
    "    }\n",
    "    , \"fecha\": {\n",
    "        \"tipo\": \"date\"\n",
    "        , \"conf\": ['2023-01-01', '2024-05-01']\n",
    "    }\n",
    "    , \"ingresos\": {\n",
    "        \"tipo\": \"numerico\"\n",
    "        , \"conf\": {\n",
    "            \"min\": 1000\n",
    "            , \"max\": 10000\n",
    "        }\n",
    "    }\n",
    "\n",
    "    , \"Y\": {\n",
    "        \"tipo\": \"categorico\"\n",
    "        , \"conf\": [3,4,5,5,6]\n",
    "    }\n",
    "}"
   ]
  },
  {
   "cell_type": "code",
   "execution_count": 30,
   "id": "9b7343ea-825b-4a7f-a61f-d6c7d3af02ce",
   "metadata": {},
   "outputs": [],
   "source": [
    "df = get_dataframe( settings , 1000 )"
   ]
  },
  {
   "cell_type": "code",
   "execution_count": 32,
   "id": "73660159-350a-41c1-ae35-a9222c66b0c2",
   "metadata": {},
   "outputs": [],
   "source": [
    "df.to_csv( 'sample.csv' , index=False )"
   ]
  },
  {
   "cell_type": "code",
   "execution_count": 34,
   "id": "01fc0e11-99c3-444a-a006-1fbf10cd05cb",
   "metadata": {},
   "outputs": [
    {
     "data": {
      "text/plain": [
       "depto               object\n",
       "fecha       datetime64[ns]\n",
       "ingresos             int64\n",
       "Y                    int64\n",
       "dtype: object"
      ]
     },
     "execution_count": 34,
     "metadata": {},
     "output_type": "execute_result"
    }
   ],
   "source": [
    "df.dtypes"
   ]
  },
  {
   "cell_type": "code",
   "execution_count": 36,
   "id": "693be20a-4401-431f-a9d6-3974ccfd3b8c",
   "metadata": {},
   "outputs": [
    {
     "data": {
      "text/html": [
       "<div>\n",
       "<style scoped>\n",
       "    .dataframe tbody tr th:only-of-type {\n",
       "        vertical-align: middle;\n",
       "    }\n",
       "\n",
       "    .dataframe tbody tr th {\n",
       "        vertical-align: top;\n",
       "    }\n",
       "\n",
       "    .dataframe thead th {\n",
       "        text-align: right;\n",
       "    }\n",
       "</style>\n",
       "<table border=\"1\" class=\"dataframe\">\n",
       "  <thead>\n",
       "    <tr style=\"text-align: right;\">\n",
       "      <th></th>\n",
       "      <th>depto</th>\n",
       "      <th>fecha</th>\n",
       "      <th>ingresos</th>\n",
       "      <th>Y</th>\n",
       "    </tr>\n",
       "  </thead>\n",
       "  <tbody>\n",
       "    <tr>\n",
       "      <th>0</th>\n",
       "      <td>MK</td>\n",
       "      <td>2023-03-16</td>\n",
       "      <td>7440</td>\n",
       "      <td>5</td>\n",
       "    </tr>\n",
       "    <tr>\n",
       "      <th>1</th>\n",
       "      <td>IS</td>\n",
       "      <td>2023-08-15</td>\n",
       "      <td>1198</td>\n",
       "      <td>6</td>\n",
       "    </tr>\n",
       "    <tr>\n",
       "      <th>2</th>\n",
       "      <td>IQ</td>\n",
       "      <td>2024-02-16</td>\n",
       "      <td>3486</td>\n",
       "      <td>5</td>\n",
       "    </tr>\n",
       "    <tr>\n",
       "      <th>3</th>\n",
       "      <td>IS</td>\n",
       "      <td>2024-04-27</td>\n",
       "      <td>4261</td>\n",
       "      <td>4</td>\n",
       "    </tr>\n",
       "    <tr>\n",
       "      <th>4</th>\n",
       "      <td>MK</td>\n",
       "      <td>2023-08-01</td>\n",
       "      <td>7246</td>\n",
       "      <td>6</td>\n",
       "    </tr>\n",
       "    <tr>\n",
       "      <th>...</th>\n",
       "      <td>...</td>\n",
       "      <td>...</td>\n",
       "      <td>...</td>\n",
       "      <td>...</td>\n",
       "    </tr>\n",
       "    <tr>\n",
       "      <th>995</th>\n",
       "      <td>II</td>\n",
       "      <td>2024-03-26</td>\n",
       "      <td>7924</td>\n",
       "      <td>3</td>\n",
       "    </tr>\n",
       "    <tr>\n",
       "      <th>996</th>\n",
       "      <td>II</td>\n",
       "      <td>2023-07-13</td>\n",
       "      <td>3214</td>\n",
       "      <td>5</td>\n",
       "    </tr>\n",
       "    <tr>\n",
       "      <th>997</th>\n",
       "      <td>IQ</td>\n",
       "      <td>2023-03-27</td>\n",
       "      <td>4341</td>\n",
       "      <td>5</td>\n",
       "    </tr>\n",
       "    <tr>\n",
       "      <th>998</th>\n",
       "      <td>IS</td>\n",
       "      <td>2023-11-22</td>\n",
       "      <td>8015</td>\n",
       "      <td>6</td>\n",
       "    </tr>\n",
       "    <tr>\n",
       "      <th>999</th>\n",
       "      <td>MK</td>\n",
       "      <td>2024-04-09</td>\n",
       "      <td>6325</td>\n",
       "      <td>3</td>\n",
       "    </tr>\n",
       "  </tbody>\n",
       "</table>\n",
       "<p>1000 rows × 4 columns</p>\n",
       "</div>"
      ],
      "text/plain": [
       "    depto      fecha  ingresos  Y\n",
       "0      MK 2023-03-16      7440  5\n",
       "1      IS 2023-08-15      1198  6\n",
       "2      IQ 2024-02-16      3486  5\n",
       "3      IS 2024-04-27      4261  4\n",
       "4      MK 2023-08-01      7246  6\n",
       "..    ...        ...       ... ..\n",
       "995    II 2024-03-26      7924  3\n",
       "996    II 2023-07-13      3214  5\n",
       "997    IQ 2023-03-27      4341  5\n",
       "998    IS 2023-11-22      8015  6\n",
       "999    MK 2024-04-09      6325  3\n",
       "\n",
       "[1000 rows x 4 columns]"
      ]
     },
     "execution_count": 36,
     "metadata": {},
     "output_type": "execute_result"
    }
   ],
   "source": [
    "df"
   ]
  },
  {
   "cell_type": "code",
   "execution_count": null,
   "id": "44273a01-d7c1-4bb8-b26f-4c0b725292c7",
   "metadata": {},
   "outputs": [],
   "source": []
  },
  {
   "cell_type": "code",
   "execution_count": null,
   "id": "04713be5-66be-4118-b3cc-2e74c8694597",
   "metadata": {},
   "outputs": [],
   "source": []
  }
 ],
 "metadata": {
  "kernelspec": {
   "display_name": "Python 3 (ipykernel)",
   "language": "python",
   "name": "python3"
  },
  "language_info": {
   "codemirror_mode": {
    "name": "ipython",
    "version": 3
   },
   "file_extension": ".py",
   "mimetype": "text/x-python",
   "name": "python",
   "nbconvert_exporter": "python",
   "pygments_lexer": "ipython3",
   "version": "3.11.5"
  }
 },
 "nbformat": 4,
 "nbformat_minor": 5
}
